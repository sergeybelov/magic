{
 "cells": [
  {
   "cell_type": "code",
   "execution_count": 2,
   "metadata": {
    "collapsed": true
   },
   "outputs": [],
   "source": [
    "import pandas as pd\n",
    "import json\n",
    "from pandas.io.json import json_normalize\n",
    "import calendar\n",
    "import datetime as dt\n",
    "\n",
    "import numpy as np\n",
    "import fnmatch\n",
    "import os\n",
    "from tqdm import tqdm"
   ]
  },
  {
   "cell_type": "markdown",
   "metadata": {},
   "source": [
    "# Читаем и преобразовываем JSON"
   ]
  },
  {
   "cell_type": "code",
   "execution_count": null,
   "metadata": {
    "collapsed": true
   },
   "outputs": [],
   "source": [
    "print('Обработка файлов JSON')\n",
    "\n",
    "firstdata=True\n",
    "rootDir='json_data'\n",
    "files=os.listdir(rootDir)\n",
    "pbar = tqdm(total=len(files))\n",
    "datas=[]\n",
    "for file in files:\n",
    "    pbar.update(1)\n",
    "    if fnmatch.fnmatch(file, '*.json'):\n",
    "        with open(rootDir+'/'+file, encoding='utf8') as data_file:\n",
    "            json_data = json.load(data_file)\n",
    "            if firstdata:\n",
    "                _columns=[val['Name']['#value'] for val in json_data['#value']['column']]#Вычленяем колонки\n",
    "                firstdata=True\n",
    "            datas.append(pd.DataFrame(data=json_data['#value']['row'], columns=_columns).applymap(lambda cell: cell['#value']))#читаем JSON и вычленяем значения\n",
    "pbar.close()\n",
    "\n",
    "print('Преобразуем в датафрейм...')\n",
    "\n",
    "data=pd.concat(datas, axis=0, join='outer', ignore_index=True)\n",
    "\n",
    "del json_data       \n",
    "del datas\n",
    "\n",
    "print('Готово')"
   ]
  },
  {
   "cell_type": "markdown",
   "metadata": {},
   "source": [
    "# Преобразование характеристик"
   ]
  },
  {
   "cell_type": "code",
   "execution_count": null,
   "metadata": {
    "collapsed": true
   },
   "outputs": [],
   "source": [
    "data['Дата']=pd.to_datetime(data['Дата'],format='%Y-%m-%d')#преобразуем дату\n",
    "\n",
    "#data['ТоварСреднийВес']=data['ТоварСреднийВес'].map(lambda cell: cell if np.isreal(cell) else 0).astype(float)#заполняем пустоты"
   ]
  },
  {
   "cell_type": "markdown",
   "metadata": {},
   "source": [
    "# Формируем новые характеристики"
   ]
  },
  {
   "cell_type": "markdown",
   "metadata": {
    "collapsed": true
   },
   "source": [
    "#параметры даты\n",
    "#data['Год']=data['Дата'].dt.year\n",
    "#data['Месяц']=data['Дата'].dt.month\n",
    "#data['Неделя']=data['Дата'].dt.week\n",
    "#data['День']=data['Дата'].dt.day\n",
    "#data['ДеньНедели']=data['Дата'].dt.weekday\n",
    "#Понедельник-четверг 0..3, пятница - 4, суббота-воскресенье - 5..6\n",
    "#data['РабочиеВыходные']=data['ДеньНедели'].map(lambda cell: 1 if cell<4 else 2 if cell==4 else 3)\n",
    "\n",
    "data['НеЗаказыватьУПоставщиков']=data['НеЗаказыватьУПоставщиков'].astype('int')"
   ]
  },
  {
   "cell_type": "markdown",
   "metadata": {},
   "source": [
    "# Праздники"
   ]
  },
  {
   "cell_type": "code",
   "execution_count": 5,
   "metadata": {},
   "outputs": [],
   "source": [
    "with open('Праздники 20130101 - 20171231.json', encoding='utf8') as data_file:\n",
    "    json_data = json.load(data_file)\n",
    "_col=[val['Name']['#value'] for val in json_data['#value']['column']]\n",
    "celebrate=pd.DataFrame(data=json_data['#value']['row'], columns=_col).applymap(lambda cell: cell['#value'])\n",
    "celebrate['Праздник']=pd.to_datetime(celebrate['Праздник'],format='%Y-%m-%d')#преобразуем дату\n",
    "\n",
    "del json_data\n",
    "\n",
    "celebrate.to_pickle('celebrate.pickle')\n",
    "\n",
    "#data['Праздник']=0#Обычный день\n",
    "#data.loc[data['Дата'].isin(celebrate['Праздник']),'Праздник']=1#праздник\n",
    "\n",
    "\n",
    "del celebrate"
   ]
  },
  {
   "cell_type": "markdown",
   "metadata": {},
   "source": [
    "# Удаляем ненужное"
   ]
  },
  {
   "cell_type": "code",
   "execution_count": null,
   "metadata": {
    "collapsed": true
   },
   "outputs": [],
   "source": [
    "#ata.drop(['Товар'], axis=1, inplace=True)\n",
    "#data.drop(['Контрагент','МаркетинговаяЛинейка'], axis=1, inplace=True)"
   ]
  },
  {
   "cell_type": "markdown",
   "metadata": {},
   "source": [
    "# 29 февраля: берем среднее за 28 и 29 февраля"
   ]
  },
  {
   "cell_type": "markdown",
   "metadata": {
    "collapsed": true
   },
   "source": [
    "condition29=(data['День'] > 28)&(data['Месяц']==2)#выборка 29 февраля каждого года\n",
    "for year in data.loc[condition29,'Год'].unique():#Какие года високосные\n",
    "    condition28=(data['День'] == 28)&(data['Месяц']==2)&(data['Год']==year)#выборка 28 февраля каждого года\n",
    "    row=data[condition28].iloc[0]#первая строка колонки\n",
    "    for col in['День','Неделя','ДеньНедели','РабочиеВыходные','Праздник']:#приравниваем характеристики даты\n",
    "        data.loc[condition29,col]=row[col]\n",
    "\n",
    "#группируемые колонки\n",
    "selectColumns=list(set(data.columns)-set(['Количество']))\n",
    "\n",
    "#среднее по 28 февраля\n",
    "condition28=(data['День'] == 28)&(data['Месяц']==2)\n",
    "feb28=data[condition28].groupby(selectColumns)['Количество'].mean().reset_index()\n",
    "\n",
    "#удаляем из оригинально датасета все 28 февраля\n",
    "data.drop(data[condition28].index, inplace=True)\n",
    "\n",
    "#добавляем среднее за 28 февраля\n",
    "data=pd.concat([data,feb28], axis=0, join='outer', ignore_index=True)\n",
    "\n",
    "del feb28"
   ]
  },
  {
   "cell_type": "markdown",
   "metadata": {},
   "source": [
    "## Группировка данных с суммированием количества"
   ]
  },
  {
   "cell_type": "code",
   "execution_count": null,
   "metadata": {
    "collapsed": true
   },
   "outputs": [],
   "source": [
    "#группируемые колонки\n",
    "selectColumns=list(set(data.columns)-set(['Количество']))\n",
    "\n",
    "data=data.groupby(selectColumns)['Количество'].sum().reset_index()\n",
    "#data.drop(['index'], axis=1, inplace=True)\n",
    "\n",
    "#Сортировка данных cо сбросом индекса, для корректной последующей разбивки\n",
    "data.sort_values('Дата',inplace=True)"
   ]
  },
  {
   "cell_type": "markdown",
   "metadata": {},
   "source": [
    "## Финальная обработка категориальных данных"
   ]
  },
  {
   "cell_type": "code",
   "execution_count": null,
   "metadata": {
    "collapsed": true
   },
   "outputs": [],
   "source": [
    "#получаем колонки категориальных характеристик\n",
    "categorical_columns = [c for c in data.columns if data[c].dtype.name == 'object']\n",
    "\n",
    "#заполняем пустые значения в категориальных данных\n",
    "data[categorical_columns]=data[categorical_columns].applymap(lambda cell: cell.strip() if bool(cell.strip()) else '<Неопределено>')"
   ]
  },
  {
   "cell_type": "markdown",
   "metadata": {},
   "source": [
    "# Сохраняем в формате Pickle (Python)"
   ]
  },
  {
   "cell_type": "code",
   "execution_count": null,
   "metadata": {
    "collapsed": true
   },
   "outputs": [],
   "source": [
    "#проверка на Nan, null\n",
    "count=0\n",
    "null_series=data.isnull().any()\n",
    "for idx in null_series.index:\n",
    "    if null_series[idx]: \n",
    "        count+=1\n",
    "        print (str(count)+'. '+idx) \n",
    "        \n",
    "\n",
    "if count>0:\n",
    "    print('Существуют данные null')\n",
    "    raise SystemExit(2)\n",
    "\n",
    "data.reset_index().drop(['index'], axis=1).to_pickle('MG_Sales.pickle',compression='gzip')\n",
    "del data"
   ]
  },
  {
   "cell_type": "code",
   "execution_count": null,
   "metadata": {
    "collapsed": true
   },
   "outputs": [],
   "source": [
    "print('Завершено',str(dt.datetime.now()))"
   ]
  },
  {
   "cell_type": "code",
   "execution_count": null,
   "metadata": {
    "collapsed": true
   },
   "outputs": [],
   "source": []
  }
 ],
 "metadata": {
  "kernelspec": {
   "display_name": "Python 3",
   "language": "python",
   "name": "python3"
  },
  "language_info": {
   "codemirror_mode": {
    "name": "ipython",
    "version": 3
   },
   "file_extension": ".py",
   "mimetype": "text/x-python",
   "name": "python",
   "nbconvert_exporter": "python",
   "pygments_lexer": "ipython3",
   "version": "3.6.0"
  }
 },
 "nbformat": 4,
 "nbformat_minor": 2
}
