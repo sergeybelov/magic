{
 "cells": [
  {
   "cell_type": "code",
   "execution_count": 1,
   "metadata": {},
   "outputs": [],
   "source": [
    "import pandas as pd\n",
    "import json\n",
    "from pandas.io.json import json_normalize\n",
    "import seaborn as sb\n",
    "import calendar\n",
    "import datetime as dt\n",
    "\n",
    "from plotly import __version__\n",
    "from plotly.offline import download_plotlyjs, init_notebook_mode, plot, iplot\n",
    "from plotly import graph_objs as go\n",
    "\n",
    "\n",
    "\n",
    "from matplotlib import pyplot\n",
    "from pylab import rcParams\n",
    "rcParams['figure.figsize'] = 35, 40\n",
    "\n",
    "import fnmatch\n",
    "import os\n",
    "from tqdm import tqdm\n",
    "\n",
    "from sklearn.preprocessing import StandardScaler"
   ]
  },
  {
   "cell_type": "markdown",
   "metadata": {
    "code_folding": []
   },
   "source": [
    "## Читаем данные"
   ]
  },
  {
   "cell_type": "code",
   "execution_count": 2,
   "metadata": {
    "collapsed": true
   },
   "outputs": [],
   "source": [
    "data=pd.read_pickle('MG_Sales.pickle',compression='gzip')"
   ]
  },
  {
   "cell_type": "code",
   "execution_count": 3,
   "metadata": {
    "collapsed": true
   },
   "outputs": [],
   "source": [
    "data.drop(['Контрагент'], axis=1, inplace=True)"
   ]
  },
  {
   "cell_type": "markdown",
   "metadata": {
    "heading_collapsed": true
   },
   "source": [
    "## Визуализируем данные"
   ]
  },
  {
   "cell_type": "code",
   "execution_count": null,
   "metadata": {
    "collapsed": true,
    "hidden": true
   },
   "outputs": [],
   "source": [
    "def visualize_data(data,title,col,val,lim=-1):\n",
    "    if lim>0:\n",
    "        title+=' '+str(lim)+' максимальных позиций'\n",
    "\n",
    "    data_table=data.pivot_table(index=['Год','Месяц','День'], columns=col, values=val, aggfunc=sum,fill_value=0,dropna=False)\n",
    "\n",
    "    cols=data.groupby(col)[val].sum()\n",
    "    cols.sort_values(ascending=False,inplace=True)\n",
    "    \n",
    "    \n",
    "    maxval=0\n",
    "    \n",
    "    def convertData(ymd):\n",
    "        y=ymd.name[0]\n",
    "        m=ymd.name[1]\n",
    "        d=ymd.name[2]\n",
    "        try: \n",
    "            if (m==2)&(d==29): \n",
    "                return dt.datetime(1980,1,1)\n",
    "            else:\n",
    "                return dt.datetime(y,m,d) \n",
    "        except ValueError: \n",
    "            return dt.datetime(1980,1,1)\n",
    "\n",
    "    #преобразуем дату\n",
    "    data_table['Дата']=data_table.apply(convertData, axis=1)\n",
    "\n",
    "    #добавляем колонки с датами\n",
    "    jobDay=data[data['РабочиеВыходные']>2].groupby(['Год','Месяц','День'])['РабочиеВыходные'].max()\n",
    "    celebrate=data[data['Праздник']==1].groupby(['Год','Месяц','День'])['Праздник'].max()\n",
    "\n",
    "    #соединяем все\n",
    "    data_table=pd.concat([data_table, jobDay,celebrate], axis=1).reset_index()#, join='inner'\n",
    "\n",
    "    #удаляем лишнее\n",
    "    data_table.drop(['Год','Месяц','День'], axis=1, inplace=True)\n",
    "    data_table.drop(data_table[data_table['Дата']==dt.datetime(1980,1,1)].index, inplace=True)\n",
    "    data_table.drop(data_table[data_table['Дата']>=dt.datetime.now()].index, inplace=True)\n",
    "    \n",
    "    df=data_table.set_index('Дата')\n",
    "        \n",
    "    init_notebook_mode(connected = True)\n",
    "    _data = []    \n",
    "    for column in cols.index:\n",
    "        if lim==0: break\n",
    "        lim-=1            \n",
    "        \n",
    "        _max=df[column].max()\n",
    "        if _max>maxval: maxval=_max\n",
    "        \n",
    "        \n",
    "        trace = go.Scatter(\n",
    "            x = df.index,\n",
    "            y = df[column],\n",
    "            mode = 'lines',            \n",
    "            name = column,\n",
    "            line=dict(\n",
    "                shape='spline'\n",
    "            )\n",
    "        )                        \n",
    "        _data.append(trace)\n",
    "        \n",
    "    for column,clr in zip(['РабочиеВыходные','Праздник'],['rgba(200, 200, 16, 0.5)','rgba(250, 100, 16, 0.5)']):\n",
    "        trace = go.Bar(\n",
    "            x = df.index,\n",
    "            y = df[column].map(lambda val: maxval if val>0 else 0),\n",
    "            name = column,\n",
    "            opacity=0.6,\n",
    "            marker=dict(\n",
    "                color=clr,\n",
    "                    line=dict(\n",
    "                        color=clr,\n",
    "                        width=0,\n",
    "                    )\n",
    "                )   \n",
    "            )\n",
    "        _data.append(trace)\n",
    "    \n",
    "    layout = dict(title = title)\n",
    "    \n",
    "    fig = dict(data = _data, layout = layout)\n",
    "    iplot(fig, show_link=False)"
   ]
  },
  {
   "cell_type": "code",
   "execution_count": null,
   "metadata": {
    "collapsed": true,
    "hidden": true
   },
   "outputs": [],
   "source": [
    "#visualize_data(data,'Продажи','ЦветМеталла','Количество',5)\n"
   ]
  },
  {
   "cell_type": "markdown",
   "metadata": {},
   "source": [
    "## Подготовка выборки"
   ]
  },
  {
   "cell_type": "code",
   "execution_count": 4,
   "metadata": {},
   "outputs": [],
   "source": [
    "#перекодировка категориальных данных\n",
    "from sklearn import preprocessing\n",
    "le = preprocessing.LabelEncoder()\n",
    "\n",
    "#получаем колонки категориальных характеристик\n",
    "categorical_columns = [c for c in data.columns if data[c].dtype.name == 'object']\n",
    "for col in categorical_columns:\n",
    "    data[col]=le.fit_transform(data[col])\n",
    "\n",
    "#делим выборку на обучающую и валидационную\n",
    "#делитель выборки\n",
    "cur_year=dt.datetime.now().year\n",
    "startCurYear=data[data['Год']==cur_year].iloc[0].name\n",
    "\n",
    "y=data['Количество']#целевая переменная\n",
    "\n",
    "#шкалирование без целевой переменной с ее весами\n",
    "data=data.drop(['Количество'],axis=1)\n",
    "data_scaled=pd.DataFrame(data=StandardScaler().fit_transform(data),columns=data.columns)"
   ]
  },
  {
   "cell_type": "code",
   "execution_count": 5,
   "metadata": {
    "collapsed": true
   },
   "outputs": [],
   "source": [
    "#делим выборку\n",
    "data_train_x=data_scaled[:startCurYear]\n",
    "data_test_x=data_scaled[startCurYear:]\n",
    "\n",
    "data_train_y=y[:startCurYear]\n",
    "data_test_y=y[startCurYear:]"
   ]
  },
  {
   "cell_type": "markdown",
   "metadata": {},
   "source": [
    "## Случайный лес"
   ]
  },
  {
   "cell_type": "code",
   "execution_count": 26,
   "metadata": {},
   "outputs": [],
   "source": [
    "from  sklearn.ensemble import RandomForestRegressor\n",
    "rf=RandomForestRegressor(n_estimators=50, n_jobs=-1)\n",
    "#rf.fit(data_train_x,data_train_y)"
   ]
  },
  {
   "cell_type": "markdown",
   "metadata": {},
   "source": [
    "## Регрессия стохастического градиентного спуска"
   ]
  },
  {
   "cell_type": "code",
   "execution_count": 24,
   "metadata": {},
   "outputs": [],
   "source": [
    "from sklearn.linear_model import SGDRegressor\n",
    "sgr=SGDRegressor(n_iter=50)\n",
    "#sgr.fit(data_train_x,data_train_y)"
   ]
  },
  {
   "cell_type": "markdown",
   "metadata": {},
   "source": [
    "## AdaBoostRegressor"
   ]
  },
  {
   "cell_type": "code",
   "execution_count": null,
   "metadata": {},
   "outputs": [],
   "source": [
    "from sklearn.ensemble import AdaBoostRegressor\n",
    "\n",
    "abr=AdaBoostRegressor(base_estimator=rf)\n",
    "abr.fit(data_train_x,data_train_y)"
   ]
  },
  {
   "cell_type": "markdown",
   "metadata": {
    "heading_collapsed": true
   },
   "source": [
    "## Оценка алгоритма по кросс-валидации временного ряда\n"
   ]
  },
  {
   "cell_type": "code",
   "execution_count": null,
   "metadata": {
    "hidden": true
   },
   "outputs": [],
   "source": [
    "from sklearn.model_selection import TimeSeriesSplit\n",
    "from sklearn.model_selection import cross_val_score\n",
    "\n",
    "tscv = TimeSeriesSplit(n_splits=3)\n",
    "\n",
    "scores = cross_val_score(abr, data_scaled, y, scoring='neg_mean_squared_error' ,cv=tscv,verbose=2)#Оценка алгоритма\n",
    "val=round(scores.mean()*100,2)#берем среднее значение оценки ошибки\n",
    "print(\"Оценка качества \",val)"
   ]
  },
  {
   "cell_type": "markdown",
   "metadata": {},
   "source": [
    "## Обучение и визуализация качества прогноза"
   ]
  },
  {
   "cell_type": "code",
   "execution_count": null,
   "metadata": {},
   "outputs": [],
   "source": [
    "pyplot.plot(data_test_y.reset_index().drop('index', axis=1), label=\"actual\")\n",
    "pyplot.plot(abr.predict(data_test_x),\"r\", label=\"prediction\")\n",
    "pyplot.show()"
   ]
  },
  {
   "cell_type": "markdown",
   "metadata": {},
   "source": [
    "## Важные характеристики"
   ]
  },
  {
   "cell_type": "code",
   "execution_count": null,
   "metadata": {
    "collapsed": true
   },
   "outputs": [],
   "source": [
    "#N=15\n",
    "#print(str(N)+' важных характеристик')\n",
    "#featureImportances=pd.DataFrame(data=rf.feature_importances_,index=data_train_x.columns)\n",
    "#featureImportances=featureImportances.apply(lambda x: abs(x))\n",
    "#featureImportances.sort_values([0],ascending=False,inplace=True)\n",
    "#featureImportances[:N]"
   ]
  },
  {
   "cell_type": "code",
   "execution_count": null,
   "metadata": {
    "collapsed": true
   },
   "outputs": [],
   "source": [
    "val"
   ]
  },
  {
   "cell_type": "code",
   "execution_count": null,
   "metadata": {
    "collapsed": true
   },
   "outputs": [],
   "source": []
  }
 ],
 "metadata": {
  "kernelspec": {
   "display_name": "Python 3",
   "language": "python",
   "name": "python3"
  },
  "language_info": {
   "codemirror_mode": {
    "name": "ipython",
    "version": 3
   },
   "file_extension": ".py",
   "mimetype": "text/x-python",
   "name": "python",
   "nbconvert_exporter": "python",
   "pygments_lexer": "ipython3",
   "version": "3.6.1"
  }
 },
 "nbformat": 4,
 "nbformat_minor": 2
}
