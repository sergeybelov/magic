{
 "cells": [
  {
   "cell_type": "code",
   "execution_count": 29,
   "metadata": {
    "collapsed": true
   },
   "outputs": [],
   "source": [
    "import pandas as pd\n",
    "\n",
    "from sklearn.preprocessing import StandardScaler\n",
    "import time\n",
    "from sklearn.preprocessing import LabelBinarizer\n",
    "from scipy.sparse import hstack\n",
    "import datetime as dt\n",
    "\n",
    "import math\n",
    "import numpy as np\n",
    "from sklearn.cluster import MiniBatchKMeans\n",
    "from hdbscan import HDBSCAN\n",
    "from sklearn.metrics import silhouette_samples, silhouette_score\n",
    "import matplotlib.pyplot as plt\n",
    "\n",
    "from pylab import rcParams\n",
    "rcParams['figure.figsize'] = 35, 40\n",
    "%matplotlib inline\n",
    "\n",
    "import matplotlib.cm as cm\n",
    "from plotly.offline import download_plotlyjs, init_notebook_mode, plot, iplot\n",
    "from plotly import __version__\n",
    "from plotly import graph_objs as go\n",
    "from plotly.graph_objs import *"
   ]
  },
  {
   "cell_type": "markdown",
   "metadata": {},
   "source": [
    "## Читаем данные"
   ]
  },
  {
   "cell_type": "code",
   "execution_count": 30,
   "metadata": {
    "collapsed": true
   },
   "outputs": [],
   "source": [
    "df=pd.read_pickle('MG_Sales_customer.pickle',compression='gzip')"
   ]
  },
  {
   "cell_type": "code",
   "execution_count": 31,
   "metadata": {},
   "outputs": [
    {
     "name": "stdout",
     "output_type": "stream",
     "text": [
      "shape  (200464, 94540)\n",
      "shape colsNames  (94540, 2)\n",
      "Prepare finished\n"
     ]
    }
   ],
   "source": [
    "#---------------------------\n",
    "#выбираем покупателей для дальнейшего анализа\n",
    "sales_sum=df.groupby('Покупатель')['Количество'].sum().sort_values()\n",
    "#выкидываем со слишком большими продажами (сводные карты) и тех кто купил один раз\n",
    "sales_sum.drop(sales_sum[(sales_sum>sales_sum.tail(6)[0])].index, inplace=True)#|(sales_sum==1)\n",
    "customers_name=list(sales_sum.index)\n",
    "del sales_sum\n",
    "\n",
    "#делаем выборку\n",
    "select=df.loc[(df['Покупатель'].isin(customers_name))&(df['Дата']>=(dt.datetime(2015,1,1))),['Покупатель','ПокупательПол','ПокупательДатаРождения','ВидИзделия','ПодвидИзделия','СтильДизайна','ВидДизайна','ОсновнойКамень','ГруппаТовара','Коллекция','ЦветМеталла','ТоварСреднийВес','Размер','Вес','Количество','Сумма','Дата','ПокупательОтказОтСМС']]\n",
    "del customers_name\n",
    "del df\n",
    "\n",
    "#Подготовка датасета\n",
    "#ЦветМеталла=list(map(lambda xx: xx,list(select['ЦветМеталла'].unique())))\n",
    "def codeMetall(_str):    \n",
    "    for str_split in _str.lower().split():\n",
    "        if str_split=='серебро': return 0\n",
    "        if str_split=='золото': return 10\n",
    "        if str_split=='зол.': return 11\n",
    "        if str_split=='платина': return 20\n",
    "        if str_split=='сплав': return -10\n",
    "    return -20\n",
    "\n",
    "\n",
    "select['ПокупательПолКод']=select['ПокупательПол'].map(lambda xx: {'Ж':0, 'М':1, '<Неопределено>':None}[xx])\n",
    "select['ЦветМеталлаКод']=select['ЦветМеталла'].map(lambda xx: codeMetall(xx))\n",
    "select['ПокупательПолКод'].fillna(select['ПокупательПолКод'].median(),inplace=True)\n",
    "select['ПокупательГодРождения']=select['ПокупательДатаРождения'].dt.year\n",
    "select['ПокупательГодРождения']=select['ПокупательГодРождения'].map(lambda xx: None if xx<1917 else xx)\n",
    "select['ПокупательГодРождения']=select['ПокупательГодРождения'].map(lambda xx: None if xx>2010 else xx)\n",
    "#select['ПокупательГодРождения'].fillna(select['ПокупательГодРождения'].median(),inplace=True)\n",
    "select.drop(['ПокупательДатаРождения','ЦветМеталла','ПокупательПолКод'],  axis=1, inplace=True)\n",
    "#выборка колонок\n",
    "numerical_columns = [c for c in select.columns if select[c].dtype.name != 'object']\n",
    "categorial_columns = [c for c in select.columns if select[c].dtype.name == 'object']\n",
    "\n",
    "numerical_columns=list(set(numerical_columns)-(set(['ПокупательГодРождения','Дата','Сумма'])))\n",
    "categorial_columns=list(set(categorial_columns)-(set(['ПокупательПол','ПокупательОтказОтСМС'])))\n",
    "\n",
    "\n",
    "\n",
    "#Dummy-кодирование и шкалируем\n",
    "lb_style = LabelBinarizer(sparse_output=True)\n",
    "#colsNames=pd.DataFrame(data=numerical_columns,columns=['Колонки'])\n",
    "\n",
    "\n",
    "#concList=[]\n",
    "for col in categorial_columns:\n",
    "    concList.append(lb_style.fit_transform(select[col]))    \n",
    "    #colsNames=colsNames.append(pd.DataFrame(data=lb_style.classes_,columns=['Колонки']))\n",
    "#concList.append(StandardScaler().fit_transform(select[numerical_columns]))#добавляем шклированные значения числовых переменных\n",
    "X=hstack(concList)\n",
    "#colsNames=colsNames.reset_index()\n",
    "\n",
    "del concList\n",
    "print('shape ',X.shape)\n",
    "#print('shape colsNames ',colsNames.shape)\n",
    "print('Prepare finished')"
   ]
  },
  {
   "cell_type": "code",
   "execution_count": 32,
   "metadata": {},
   "outputs": [
    {
     "name": "stdout",
     "output_type": "stream",
     "text": [
      "reduced\n"
     ]
    }
   ],
   "source": [
    "from sklearn.decomposition import TruncatedSVD\n",
    "svd = TruncatedSVD(n_components=133, n_iter=7)\n",
    "svd_representation = svd.fit_transform(X)\n",
    "print('reduced')"
   ]
  },
  {
   "cell_type": "code",
   "execution_count": 33,
   "metadata": {
    "collapsed": true
   },
   "outputs": [],
   "source": [
    "del X"
   ]
  },
  {
   "cell_type": "code",
   "execution_count": 50,
   "metadata": {},
   "outputs": [
    {
     "name": "stdout",
     "output_type": "stream",
     "text": [
      "HDBSCAN Elapsed time to cluster:   89.1 m\n",
      "n_clusters = 10\n"
     ]
    }
   ],
   "source": [
    "# print(\"start\")\n",
    "hdb_t1 = time.time()\n",
    "n_clusters=10\n",
    "\n",
    "hdb = HDBSCAN(min_cluster_size=3650,min_samples=1,core_dist_n_jobs=8,metric='manhattan',alpha=.0001).fit(svd_representation)#,metric='manhattan' alpha=.00001,\n",
    "#hdb = MiniBatchKMeans(n_clusters=n_clusters,max_iter=150,max_no_improvement=15,batch_size=165,tol=.01,n_init=5,random_state=17).fit(svd_representation)\n",
    "#hdb = MiniBatchKMeans(n_clusters=n_clusters,max_iter=150,max_no_improvement=15,batch_size=260,tol=.0094,n_init=5,random_state=17).fit(svd_representation)\n",
    "\n",
    "\n",
    "hdb_elapsed_time = time.time() - hdb_t1\n",
    "print('HDBSCAN Elapsed time to cluster: %6.1f m' % (hdb_elapsed_time/60))\n",
    "\n",
    "n_clusters = len(set(hdb.labels_)) - (1 if -1 in hdb.labels_ else 0)\n",
    "print(\"n_clusters =\", n_clusters)"
   ]
  },
  {
   "cell_type": "code",
   "execution_count": 51,
   "metadata": {},
   "outputs": [
    {
     "name": "stdout",
     "output_type": "stream",
     "text": [
      "Elapsed time to cluster:    1.9 m\n",
      "For n_clusters = 10 The average silhouette_score is : 0.138514027473\n",
      "Negative silhouette count:  6913 ,  17.24 %\n",
      "Плохой результат силуэта при кластеризации\n"
     ]
    },
    {
     "data": {
      "image/png": "[encoded data removed]",
      "text/plain": [
       "<matplotlib.figure.Figure at 0x316422b0>"
      ]
     },
     "metadata": {},
     "output_type": "display_data"
    }
   ],
   "source": [
    "from sklearn.model_selection import ShuffleSplit\n",
    "#svd_representation=X.copy()\n",
    "\n",
    "ss = ShuffleSplit(n_splits=1, train_size=int(svd_representation.shape[0]*.2))\n",
    "subs= ss.split(svd_representation)#,hdb.labels_\n",
    "\n",
    "for index in subs:\n",
    "    X=svd_representation[index[0]]#.tocsr()\n",
    "    cluster_labels=hdb.labels_[index[0]]\n",
    "                        \n",
    "    hdb_t1 = time.time()\n",
    "    \n",
    "    fig, (ax1) = plt.subplots(1, 1)\n",
    "    fig.set_size_inches(12, 8)\n",
    "    \n",
    "    # The 1st subplot is the silhouette plot\n",
    "    # The silhouette coefficient can range from -1, 1 \n",
    "    ax1.set_xlim([-.5, .5])\n",
    "    # The (n_clusters+1)*10 is for inserting blank space between silhouette\n",
    "    # plots of individual clusters, to demarcate them clearly.\n",
    "    ax1.set_ylim([0, X.shape[0] + (n_clusters + 1) * 12])\n",
    "    \n",
    "    # The silhouette_score gives the average value for all the samples.\n",
    "    # This gives a perspective into the density and separation of the formed\n",
    "    # clusters\n",
    "    silhouette_avg = silhouette_score(X, cluster_labels)\n",
    "    print('Elapsed time to cluster: %6.1f m' % ((time.time()-hdb_t1)/60))\n",
    "    print(\"For n_clusters =\", n_clusters,\n",
    "                  \"The average silhouette_score is :\", silhouette_avg)\n",
    "    \n",
    "    # Compute the silhouette scores for each sample\n",
    "    sample_silhouette_values = silhouette_samples(X, cluster_labels)\n",
    "    n_len=len(sample_silhouette_values[sample_silhouette_values<0])\n",
    "    one_per=len(sample_silhouette_values)/100\n",
    "    percent=round(n_len/one_per,2)\n",
    "    print('Negative silhouette count: ',n_len,', ',percent,'%')\n",
    "    if percent>=2: print('Плохой результат силуэта при кластеризации')#raise Exception\n",
    "    \n",
    "    y_lower = 12\n",
    "    for i in range(n_clusters):\n",
    "                # Aggregate the silhouette scores for samples belonging to\n",
    "                # cluster i, and sort them\n",
    "                ith_cluster_silhouette_values = \\\n",
    "                    sample_silhouette_values[cluster_labels == i]\n",
    "    \n",
    "                ith_cluster_silhouette_values.sort()\n",
    "    \n",
    "                size_cluster_i = ith_cluster_silhouette_values.shape[0]\n",
    "                y_upper = y_lower + size_cluster_i\n",
    "    \n",
    "                color = cm.spectral(float(i) / n_clusters)\n",
    "                ax1.fill_betweenx(np.arange(y_lower, y_upper),\n",
    "                                  0, ith_cluster_silhouette_values,\n",
    "                                  facecolor=color, edgecolor=color, alpha=0.7)\n",
    "    \n",
    "                # Label the silhouette plots with their cluster numbers at the middle\n",
    "                ax1.text(-0.5, y_lower + 0.5 * size_cluster_i, str(i))\n",
    "    \n",
    "                # Compute the new y_lower for next plot\n",
    "                y_lower = y_upper + 12  # 10 for the 0 samples\n",
    "    \n",
    "    set_xlabel=\"The avg silhouette coefficient values = \"+str(round(silhouette_avg,3))\n",
    "    ax1.set_title(\"The silhouette plot for the various clusters.\")\n",
    "    ax1.set_xlabel(set_xlabel)\n",
    "    ax1.set_ylabel(\"Cluster label\")\n",
    "    \n",
    "    # The vertical line for average silhouette score of all the values\n",
    "    ax1.axvline(x=silhouette_avg, color=\"red\", linestyle=\"--\")\n",
    "    \n",
    "    ax1.set_yticks([])  # Clear the yaxis labels / ticks\n",
    "    ax1.set_xticks(list(np.arange(-.6,1,.2)))\n",
    "    \n",
    "    plt.suptitle((\"Silhouette analysis for MiniBatchKMeans clustering on sample data \"\n",
    "                          \"with n_clusters = %d\" % n_clusters),\n",
    "                         fontsize=14, fontweight='bold')\n",
    "    \n",
    "    plt.show()\n",
    "    \n",
    "    del X\n",
    "    del cluster_labels"
   ]
  },
  {
   "cell_type": "code",
   "execution_count": null,
   "metadata": {
    "collapsed": true
   },
   "outputs": [],
   "source": []
  }
 ],
 "metadata": {
  "kernelspec": {
   "display_name": "Python 3",
   "language": "python",
   "name": "python3"
  },
  "language_info": {
   "codemirror_mode": {
    "name": "ipython",
    "version": 3
   },
   "file_extension": ".py",
   "mimetype": "text/x-python",
   "name": "python",
   "nbconvert_exporter": "python",
   "pygments_lexer": "ipython3",
   "version": "3.6.0"
  }
 },
 "nbformat": 4,
 "nbformat_minor": 2
}
