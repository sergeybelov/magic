{
 "cells": [
  {
   "cell_type": "code",
   "execution_count": null,
   "metadata": {
    "collapsed": true
   },
   "outputs": [],
   "source": [
    "import pandas as pd\n",
    "import numpy as np\n",
    "import datetime as dt\n",
    "from sklearn.cluster import DBSCAN\n",
    "from sklearn.preprocessing import StandardScaler\n",
    "\n",
    "#https://habrahabr.ru/company/ods/blog/327242/\n",
    "\n",
    "import matplotlib.pyplot as plt\n",
    "from sklearn.metrics import mean_absolute_error\n",
    "%matplotlib inline\n",
    "import seaborn as sb\n",
    "from sklearn.preprocessing import StandardScaler\n",
    "\n",
    "\n",
    "import matplotlib.cm as cm\n",
    "from plotly.offline import download_plotlyjs, init_notebook_mode, plot, iplot\n",
    "from plotly import __version__\n",
    "from plotly import graph_objs as go\n",
    "from plotly.graph_objs import *\n",
    "\n",
    "\n",
    "from pylab import rcParams\n",
    "rcParams['figure.figsize'] = 35, 40"
   ]
  },
  {
   "cell_type": "markdown",
   "metadata": {},
   "source": [
    "## Читаем данные"
   ]
  },
  {
   "cell_type": "code",
   "execution_count": null,
   "metadata": {},
   "outputs": [],
   "source": [
    "df=pd.read_pickle('MG_Sales_customer.pickle',compression='gzip')\n",
    "\n",
    "#выбираем покупателей для дальнейшего анализа\n",
    "sales_sum=df.groupby('Покупатель')['Количество'].sum()\n",
    "#выкидываем со слишком большими продажами (сводные карты) и тех кто купил один раз\n",
    "sales_sum.drop(sales_sum[(sales_sum>133)|(sales_sum==1)].index, inplace=True)\n",
    "customers_name=list(sales_sum.index)\n",
    "del sales_sum\n",
    "\n",
    "#делаем выборку\n",
    "select=df.loc[df['Покупатель'].isin(customers_name),['Покупатель','ВидИзделия','ПодвидИзделия','СтильДизайна','ВидДизайна','ПодвидДизайна','ОсновнойКамень','ГруппаТовара','Коллекция','МаркетинговаяЛинейка','ЦветМеталла','ЦветПокрытия','ТоварСреднийВес','Тип','Размер','Вес']]\n",
    "#select['ПокупательДатаРождения']=select['ПокупательДатаРождения'].fillna(dt.datetime(999,1,1))\n",
    "del customers_name\n",
    "\n",
    "#шкалируем\n",
    "categorical_columns = [c for c in select.columns if select[c].dtype.name == 'object']\n",
    "select_fact=select.copy()\n",
    "for col in categorical_columns:\n",
    "    select_fact[col]=pd.factorize(select_fact[col])[0]\n",
    "    \n",
    "scaler = StandardScaler()\n",
    "X_scaled = pd.DataFrame(data=scaler.fit_transform(select_fact), columns=select_fact.columns)\n",
    "#del select\n",
    "del select_fact\n",
    "del df\n",
    "\n",
    "\n",
    "db = DBSCAN(eps=0.2,n_jobs=-1).fit(X_scaled)"
   ]
  },
  {
   "cell_type": "code",
   "execution_count": null,
   "metadata": {},
   "outputs": [],
   "source": [
    "init_notebook_mode(connected = True)\n",
    "\n",
    "val='ВидИзделия'\n",
    "ЦветМеталла=list(select[val].unique())\n",
    "colors = list(iter(cm.rainbow(np.linspace(0, 1, len(ЦветМеталла)))))\n",
    "cl=select.loc[:30000,val].map(lambda xx: ЦветМеталла.index(xx))\n",
    "\n",
    "trace1 = go.Scatter3d(#\n",
    "    x=tsne_representation[:, 0],\n",
    "    y=tsne_representation[:, 1],\n",
    "    z=tsne_representation[:, 2],\n",
    "    mode='markers',\n",
    "    marker=dict(\n",
    "        size=2,\n",
    "        colorscale='Rainbow',#Greys, YlGnBu, Greens, YlOrRd, Bluered, RdBu, Reds, Blues, Picnic, Rainbow, Portland, Jet, Hot, Blackbody, Earth, Electric, Viridis\n",
    "        opacity=0.8,\n",
    "        color=cl,\n",
    "        colorbar=ColorBar(\n",
    "                title=val\n",
    "        )\n",
    "    )\n",
    ")\n",
    "\n",
    "data = [trace1]\n",
    "layout = go.Layout(\n",
    "    margin=dict(\n",
    "        l=0,\n",
    "        r=0,\n",
    "        b=0,\n",
    "        t=0\n",
    "    )\n",
    ")\n",
    "fig = go.Figure(data=data, layout=layout)\n",
    "iplot(fig, filename='T-SNE продаж')\n",
    "print(ЦветМеталла)"
   ]
  },
  {
   "cell_type": "code",
   "execution_count": null,
   "metadata": {
    "collapsed": true
   },
   "outputs": [],
   "source": []
  }
 ],
 "metadata": {
  "kernelspec": {
   "display_name": "Python 3",
   "language": "python",
   "name": "python3"
  },
  "language_info": {
   "codemirror_mode": {
    "name": "ipython",
    "version": 3
   },
   "file_extension": ".py",
   "mimetype": "text/x-python",
   "name": "python",
   "nbconvert_exporter": "python",
   "pygments_lexer": "ipython3",
   "version": "3.6.0"
  }
 },
 "nbformat": 4,
 "nbformat_minor": 2
}
