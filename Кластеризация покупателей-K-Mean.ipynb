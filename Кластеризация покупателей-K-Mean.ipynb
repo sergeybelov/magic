{
 "cells": [
  {
   "cell_type": "code",
   "execution_count": null,
   "metadata": {
    "collapsed": true
   },
   "outputs": [],
   "source": [
    "import pandas as pd\n",
    "\n",
    "from sklearn.preprocessing import StandardScaler\n",
    "import time\n",
    "from sklearn.preprocessing import LabelBinarizer\n",
    "from scipy.sparse import hstack\n",
    "import datetime as dt\n",
    "\n",
    "import numpy as np\n",
    "#from sklearn.cluster import KMeans\n",
    "#from sklearn.cluster import MiniBatchKMeans\n",
    "from hdbscan import HDBSCAN\n",
    "from sklearn import metrics\n",
    "import matplotlib.pyplot as plt\n",
    "\n",
    "from pylab import rcParams\n",
    "rcParams['figure.figsize'] = 35, 40\n",
    "%matplotlib inline\n",
    "\n",
    "import matplotlib.cm as cm\n",
    "from plotly.offline import download_plotlyjs, init_notebook_mode, plot, iplot\n",
    "from plotly import __version__\n",
    "from plotly import graph_objs as go\n",
    "from plotly.graph_objs import *"
   ]
  },
  {
   "cell_type": "markdown",
   "metadata": {},
   "source": [
    "## Читаем данные"
   ]
  },
  {
   "cell_type": "code",
   "execution_count": null,
   "metadata": {
    "collapsed": true
   },
   "outputs": [],
   "source": [
    "df=pd.read_pickle('MG_Sales_customer.pickle',compression='gzip')"
   ]
  },
  {
   "cell_type": "code",
   "execution_count": null,
   "metadata": {},
   "outputs": [],
   "source": [
    "#выбираем покупателей для дальнейшего анализа\n",
    "sales_sum=df.groupby('Покупатель')['Количество'].sum()\n",
    "#выкидываем со слишком большими продажами (сводные карты) и тех кто купил один раз\n",
    "sales_sum.drop(sales_sum[(sales_sum>133)|(sales_sum==1)].index, inplace=True)\n",
    "customers_name=list(sales_sum.index)\n",
    "del sales_sum\n",
    "\n",
    "#делаем выборку\n",
    "select=df.loc[(df['Покупатель'].isin(customers_name))&(df['Дата']>=(dt.datetime(2014,1,1))),['Покупатель','ПокупательПол','ПокупательДатаРождения','ВидИзделия','ПодвидИзделия','СтильДизайна','ВидДизайна','ОсновнойКамень','ГруппаТовара','Коллекция','ЦветМеталла','ТоварСреднийВес','Размер','Вес','Количество']]\n",
    "del customers_name\n",
    "del df\n",
    "\n",
    "#Подготовка датасета\n",
    "#ЦветМеталла=list(map(lambda xx: xx,list(select['ЦветМеталла'].unique())))\n",
    "def codeMetall(_str):    \n",
    "    for str_split in _str.lower().split():\n",
    "        if str_split=='серебро': return 0\n",
    "        if str_split=='золото': return 10\n",
    "        if str_split=='зол.': return 11\n",
    "        if str_split=='платина': return 20\n",
    "        if str_split=='сплав': return -10\n",
    "    return -20\n",
    "\n",
    "select['ПокупательПолКод']=select['ПокупательПол'].map(lambda xx: {'Ж':0, 'М':1, '<Неопределено>':None}[xx])\n",
    "select['ЦветМеталлаКод']=select['ЦветМеталла'].map(lambda xx: codeMetall(xx))\n",
    "select['ПокупательПолКод'].fillna(select['ПокупательПолКод'].median(),inplace=True)\n",
    "select['ПокупательГодРождения']=select['ПокупательДатаРождения'].dt.year\n",
    "select['ПокупательГодРождения']=select['ПокупательГодРождения'].map(lambda xx: None if xx<1917 else xx)\n",
    "select['ПокупательГодРождения']=select['ПокупательГодРождения'].map(lambda xx: None if xx>2010 else xx)\n",
    "select['ПокупательГодРождения'].fillna(select['ПокупательГодРождения'].median(),inplace=True)\n",
    "select.drop(['ПокупательДатаРождения','ПокупательПол','ЦветМеталла','ПокупательПолКод','ПокупательГодРождения'],  axis=1, inplace=True)\n",
    "#выборка колонок\n",
    "numerical_columns = [c for c in select.columns if select[c].dtype.name != 'object']\n",
    "categorial_columns = [c for c in select.columns if select[c].dtype.name == 'object']\n",
    "\n",
    "\n",
    "#Dummy-кодирование и шкалируем\n",
    "lb_style = LabelBinarizer(sparse_output=True)\n",
    "concList=[]\n",
    "for col in categorial_columns:\n",
    "    concList.append(lb_style.fit_transform(select[col]))    \n",
    "concList.append(StandardScaler().fit_transform(select[numerical_columns]))#добавляем шклированные значения числовых переменных\n",
    "X=hstack(concList)\n",
    "\n",
    "del concList\n",
    "print('shape ',X.shape)\n",
    "print('Prepare finished')"
   ]
  },
  {
   "cell_type": "code",
   "execution_count": null,
   "metadata": {},
   "outputs": [],
   "source": [
    "from sklearn.decomposition import TruncatedSVD\n",
    "svd = TruncatedSVD(n_components=150, n_iter=5)\n",
    "svd_representation = svd.fit_transform(X)\n",
    "var1=np.cumsum(np.round(svd.explained_variance_ratio_, decimals=5)*100)\n",
    "plt.plot(var1[-50:])\n",
    "\n",
    "#расчитываем оптимальное количество компонент\n",
    "#более 90% дисперсии и шаг приращения каждой следующей компоненты <10^-4\n",
    "optimal_n=np.intersect1d(np.argwhere(var1>90.),np.argwhere(svd.explained_variance_ratio_<=10**-4))[0]\n",
    "print(optimal_n)#171\n",
    "\n",
    "if optimal_n==None:\n",
    "    raise 'Not enough n_components!'\n",
    "\n",
    "svd = TruncatedSVD(n_components=optimal_n, n_iter=7)\n",
    "svd_representation = svd.fit_transform(X)\n",
    "print('reduced')"
   ]
  },
  {
   "cell_type": "code",
   "execution_count": null,
   "metadata": {
    "collapsed": true
   },
   "outputs": [],
   "source": [
    "del X"
   ]
  },
  {
   "cell_type": "markdown",
   "metadata": {},
   "source": [
    "init_notebook_mode(connected = True)\n",
    "\n",
    "lim=30000\n",
    "val='ЦветМеталлаКод'\n",
    "#----------\n",
    "ЦветМеталла=list(select.iloc[:lim][val].unique())\n",
    "colors = list(iter(cm.rainbow(np.linspace(0, 1, len(ЦветМеталла)))))\n",
    "cl=select.iloc[:lim][val].map(lambda xx: ЦветМеталла.index(xx))\n",
    "\n",
    "trace1 = go.Scatter3d(#\n",
    "    x=svd_representation[:lim, 0],\n",
    "    y=svd_representation[:lim, 1],\n",
    "    z=svd_representation[:lim, 2],\n",
    "    mode='markers',\n",
    "    marker=dict(\n",
    "        size=2,\n",
    "        colorscale='Rainbow',#Greys, YlGnBu, Greens, YlOrRd, Bluered, RdBu, Reds, Blues, Picnic, Rainbow, Portland, Jet, Hot, Blackbody, Earth, Electric, Viridis\n",
    "        opacity=0.8,\n",
    "        color=cl,\n",
    "        colorbar=ColorBar(\n",
    "                title=val\n",
    "        )\n",
    "    )\n",
    ")\n",
    "\n",
    "data = [trace1]\n",
    "layout = go.Layout(\n",
    "    margin=dict(\n",
    "        l=0,\n",
    "        r=0,\n",
    "        b=0,\n",
    "        t=0\n",
    "    )\n",
    ")\n",
    "fig = go.Figure(data=data, layout=layout)\n",
    "iplot(fig, filename='SVD продаж')\n",
    "print(ЦветМеталла)"
   ]
  },
  {
   "cell_type": "markdown",
   "metadata": {
    "collapsed": true
   },
   "source": [
    "def compKMeans(min_clusters,max_clusters):\n",
    "    if min_clusters==max_clusters: max_clusters+=1\n",
    "    rg=range(min_clusters, max_clusters)\n",
    "    if __name__ == '__main__':\n",
    "        inertia = []\n",
    "        for k in rg:\n",
    "            hdb_t1 = time.time()\n",
    "            hdb = MiniBatchKMeans(n_clusters=k,max_iter=150,max_no_improvement=25,n_init=15,tol=.01,batch_size=15,random_state=17).fit(X)\n",
    "            #hdb = KMeans(n_clusters=k,n_jobs=15,max_iter=100,n_init=2,precompute_distances=True,verbose=3,random_state=17).fit(X)\n",
    "            hdb_labels = hdb.labels_\n",
    "            hdb_elapsed_time = time.time() - hdb_t1\n",
    "            \n",
    "            inertia.append(np.sqrt(hdb.inertia_))\n",
    "            \n",
    "            # Number of clusters in labels, ignoring noise if present.\n",
    "            n_clusters_hdb_ = len(set(hdb_labels)) - (1 if -1 in hdb_labels else 0)\n",
    "    \n",
    "            #print('\\n\\n++ KMeans Results')\n",
    "            print('n_clusters: %d' % k)\n",
    "            #print('Estimated number of clusters: %d' % n_clusters_hdb_)\n",
    "            print('Elapsed time to cluster: %.4f s' % hdb_elapsed_time)\n",
    "            #print('Silhouette Coefficient: %0.3f'\n",
    "             #     % metrics.silhouette_score(X, hdb_labels,random_state=17))\n",
    "    \n",
    "    from pylab import rcParams\n",
    "    rcParams['figure.figsize'] = 14, 8\n",
    "    plt.plot(rg, inertia, marker='s');\n",
    "    plt.xlabel('$k$')\n",
    "    plt.ylabel('$J(C_k)$')\n",
    "    \n",
    "    return hdb"
   ]
  },
  {
   "cell_type": "markdown",
   "metadata": {},
   "source": [
    "hdb=compKMeans(10,11)"
   ]
  },
  {
   "cell_type": "code",
   "execution_count": null,
   "metadata": {
    "scrolled": false
   },
   "outputs": [],
   "source": [
    "hdb_t1 = time.time()\n",
    "hdb = HDBSCAN(min_cluster_size=5000,core_dist_n_jobs=10)#,min_samples=1\n",
    "#hdb.fit(svd_representation)\n",
    "hdb.fit(svd_representation)\n",
    "\n",
    "hdb_elapsed_time = time.time() - hdb_t1\n",
    "print('Elapsed time to cluster: %.4f m' % hdb_elapsed_time/60)"
   ]
  },
  {
   "cell_type": "markdown",
   "metadata": {},
   "source": [
    "init_notebook_mode(connected = True)\n",
    "lim=30000\n",
    "\n",
    "trace1 = go.Scatter3d(#\n",
    "    x=svd_representation[:lim, 0],\n",
    "    y=svd_representation[:lim, 1],    \n",
    "    z=svd_representation[:lim, 2], \n",
    "    mode='markers',\n",
    "    marker=dict(\n",
    "        size=2,\n",
    "        colorscale='Rainbow',#Greys, YlGnBu, Greens, YlOrRd, Bluered, RdBu, Reds, Blues, Picnic, Rainbow, Portland, Jet, Hot, Blackbody, Earth, Electric, Viridis\n",
    "        opacity=0.8,\n",
    "        color=hdb.labels_[:lim],\n",
    "        colorbar=ColorBar(\n",
    "                title='Кластеры'\n",
    "        )\n",
    "    )\n",
    ")\n",
    "\n",
    "data = [trace1]\n",
    "layout = go.Layout(\n",
    "    margin=dict(\n",
    "        l=0,\n",
    "        r=0,\n",
    "        b=0,\n",
    "        t=0\n",
    "    )\n",
    ")\n",
    "fig = go.Figure(data=data, layout=layout)\n",
    "iplot(fig, filename='Кластеризация продаж')"
   ]
  },
  {
   "cell_type": "code",
   "execution_count": null,
   "metadata": {},
   "outputs": [],
   "source": [
    "import seaborn as sns\n",
    "sns.set_context('poster')\n",
    "sns.set_style('white')\n",
    "sns.set_color_codes()\n",
    "\n",
    "hdb.condensed_tree_.plot(select_clusters=True,\n",
    "                               selection_palette=sns.color_palette('deep', 10))"
   ]
  },
  {
   "cell_type": "code",
   "execution_count": null,
   "metadata": {
    "collapsed": true
   },
   "outputs": [],
   "source": [
    "select['ЦветМеталлаКод']=select['ЦветМеталлаКод'].map(lambda xx: {0: 'серебро', 10: 'золото', 11: 'золото', 20: 'платина',-10: 'сплав', -20: 'прочее'}[xx])\n",
    "#select['ПокупательПолКод']=select['ПокупательПолКод'].map(lambda xx: {0: 'Ж', 1: 'М'}[xx])"
   ]
  },
  {
   "cell_type": "code",
   "execution_count": null,
   "metadata": {
    "collapsed": true
   },
   "outputs": [],
   "source": [
    "#Выводим данные по кластерам в сводную таблицу\n",
    "clusters_data=pd.DataFrame(columns=select.columns)\n",
    "for cl in range(hdb.cluster_centers_.shape[0]):\n",
    "    sel=select.loc[hdb.labels_==cl].describe(include='all')\n",
    "    clust_info=sel.loc[['top','mean']]\n",
    "    clusters_data.loc[cl+1]=pd.concat([clust_info.fillna('').sum(axis=0),clust_info.fillna(0).sum(axis=0)])\n",
    "    #clusters_data.loc[cl+1,'Количество']=sel.loc['count','Покупатель']\n",
    "    clusters_data.loc[cl+1,'УникальныхПокупателей']=sel.loc['unique','Покупатель']\n",
    "    clusters_data.loc[cl+1,'ЧастотаПокупок']=sel.loc['freq','Покупатель']\n",
    "clusters_data.drop('Количество',axis=1,inplace=True)\n",
    "clusters_data.sort_values('УникальныхПокупателей',inplace=True, ascending=False)\n",
    "clusters_data"
   ]
  },
  {
   "cell_type": "code",
   "execution_count": null,
   "metadata": {},
   "outputs": [],
   "source": [
    "var1=np.cumsum(np.round(svd.explained_variance_ratio_, decimals=4)*100)\n",
    "plt.plot(var1[-50:])"
   ]
  },
  {
   "cell_type": "code",
   "execution_count": null,
   "metadata": {},
   "outputs": [],
   "source": [
    " "
   ]
  },
  {
   "cell_type": "code",
   "execution_count": null,
   "metadata": {},
   "outputs": [],
   "source": []
  },
  {
   "cell_type": "markdown",
   "metadata": {},
   "source": [
    "from IPython.display import display\n",
    "for cl in range(6):\n",
    "    print('cluster=',(cl+1))\n",
    "    display(select.loc[hdb.labels_==cl].describe(include='all'))"
   ]
  },
  {
   "cell_type": "markdown",
   "metadata": {},
   "source": [
    "select.loc[hdb_labels==0].groupby('ВидИзделия')['Количество'].sum().sort_values(ascending=False)"
   ]
  }
 ],
 "metadata": {
  "kernelspec": {
   "display_name": "Python 3",
   "language": "python",
   "name": "python3"
  },
  "language_info": {
   "codemirror_mode": {
    "name": "ipython",
    "version": 3
   },
   "file_extension": ".py",
   "mimetype": "text/x-python",
   "name": "python",
   "nbconvert_exporter": "python",
   "pygments_lexer": "ipython3",
   "version": "3.6.0"
  }
 },
 "nbformat": 4,
 "nbformat_minor": 2
}
