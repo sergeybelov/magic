{
 "cells": [
  {
   "cell_type": "code",
   "execution_count": 1,
   "metadata": {},
   "outputs": [
    {
     "name": "stderr",
     "output_type": "stream",
     "text": [
      "C:\\Users\\TEMP\\AppData\\Local\\Continuum\\Anaconda3\\lib\\site-packages\\sklearn\\cross_validation.py:44: DeprecationWarning: This module was deprecated in version 0.18 in favor of the model_selection module into which all the refactored classes and functions are moved. Also note that the interface of the new CV iterators are different from that of this module. This module will be removed in 0.20.\n",
      "  \"This module will be removed in 0.20.\", DeprecationWarning)\n"
     ]
    }
   ],
   "source": [
    "import pandas as pd\n",
    "import numpy as np\n",
    "import datetime as dt\n",
    "import xgboost as xgb\n",
    "#https://habrahabr.ru/company/ods/blog/327242/\n",
    "\n",
    "import matplotlib.pyplot as plt\n",
    "from sklearn.metrics import mean_absolute_error\n",
    "%matplotlib inline\n",
    "import seaborn as sb\n",
    "from sklearn.model_selection import TimeSeriesSplit\n",
    "from sklearn.preprocessing import StandardScaler\n",
    "#from sklearn.preprocessing import MinMaxScaler\n",
    "from pandas.tseries.offsets import *\n",
    "\n",
    "from plotly.offline import download_plotlyjs, init_notebook_mode, plot, iplot\n",
    "from plotly import __version__\n",
    "from plotly import graph_objs as go\n",
    "\n",
    "from sklearn.metrics import mean_absolute_error\n",
    "from sklearn.metrics import mean_squared_error"
   ]
  },
  {
   "cell_type": "code",
   "execution_count": 2,
   "metadata": {
    "collapsed": true
   },
   "outputs": [],
   "source": [
    "#Читаем данные\n",
    "df=pd.read_pickle('MG_Sales.pickle',compression='gzip')\n",
    "celebrate=pd.read_pickle('celebrate.pickle')"
   ]
  },
  {
   "cell_type": "code",
   "execution_count": 3,
   "metadata": {},
   "outputs": [],
   "source": [
    "#готовим выборку обучения\n",
    "begin_period=dt.datetime(2015,1,1)\n",
    "end_period=dt.datetime(2017,4,30)\n",
    "\n",
    "\n",
    "days=30\n",
    "start_forecast=end_period+dt.timedelta(days=1)\n",
    "end_forecast=start_forecast+dt.timedelta(days=days)\n",
    "\n",
    "#query=\"Дата>=20150101 and ТоварЦеноваяГруппа=='9000-12000' and ЦветМеталла=='Красное золото' and Коллекция=='Гранаты с фианитом' and Магазин=='Гранд Ривер Астрахань'\"\n",
    "query=\"Дата>=20150101 and Магазин=='РИО Дмитровка'\"\n",
    "#('9000-12000', 'Красное золото', 'Гранаты с фианитом', 'Гранд Ривер Астрахань')\n",
    "time_series=pd.DataFrame(data=df.query(query).groupby('Дата')['Количество'].sum())\n",
    "time_series.index.name='ds'\n",
    "time_series.columns=['y']\n",
    "time_series.y=time_series.y\n",
    "\n",
    "#Пустой период в днях обучающей выборки\n",
    "delta=end_forecast-begin_period+dt.timedelta(days=1)\n",
    "dummy_train = pd.DataFrame(index=np.array([begin_period + dt.timedelta(days=x) for x in range(0, delta.days)]).astype('datetime64[D]'))\n",
    "dummy_train.index.name='ds'\n",
    "\n",
    "#сливаем обучающую выборку и пустой период чтобы избежать пропусков дат, пропуски заполняем нулями\n",
    "time_series=dummy_train.merge(time_series,left_index=True, right_index=True,how='outer').fillna(0)  "
   ]
  },
  {
   "cell_type": "code",
   "execution_count": 50,
   "metadata": {},
   "outputs": [],
   "source": [
    "class modelForecast:\n",
    "    def __init__(self, celebrate):\n",
    "        self.cel=celebrate\n",
    "        \n",
    "        \n",
    "    def setPercentil(self,row,percentiles):\n",
    "        if row<percentiles['llim']: return -2\n",
    "        if row>percentiles['ulim']: return 2\n",
    "        if row<percentiles['med'][0]: return -1\n",
    "        if row>percentiles['med'][1]: return 1\n",
    "        return 0\n",
    "\n",
    "    def getPercentil(self,ts):\n",
    "        #Фиксируем аномально низкие и высокие продажи\n",
    "        ul=5#Персентиль высоких продаж 2\n",
    "        ll=5#7#Персентиль низких продаж 10\n",
    "        md=25#ширина медианы\n",
    "        percentiles={}\n",
    "\n",
    "        percentiles['ulim']=np.percentile(ts['y'], 100.-ul)\n",
    "        percentiles['llim']=np.percentile(ts['y'], ll)\n",
    "        percentiles['med']=np.percentile(ts['y'], [50-md,50+md])\n",
    "        return percentiles\n",
    "\n",
    "\n",
    "    #временные характеристики\n",
    "    def setNewValues(self,_ts):\n",
    "        ts=_ts.copy()\n",
    "        y=None\n",
    "        \n",
    "        ts['День недели'] = ts.index.weekday\n",
    "        ts['Выходной'] = ((ts.index.weekday.isin([5,6]))|(ts.index.isin(self.cel['Праздник'])))*1\n",
    "        ts['Неделя'] = ts.index.week\n",
    "        ts['Год'] = ts.index.year\n",
    "        ts['Месяц'] = ts.index.month\n",
    "        ts['День месяца'] = ts.index.day\n",
    "\n",
    "\n",
    "        if 'y' in ts.columns:#ТОЛЬКО для обучающей выборки\n",
    "            #Фомируем характеристики модели \n",
    "            percentiles=self.getPercentil(ts)#получаем распределение персентилей\n",
    "\n",
    "\n",
    "            ts['Среднее по дню года']=0\n",
    "            ts['Максимальное по дню года']=0\n",
    "            ts['Минимальное по дню года']=0\n",
    "            #Среднее по дню года, нарастающим\n",
    "            for year in ts['Год'].unique():    \n",
    "                _mean_day_year=ts.loc[ts['Год']<=year,['Месяц','День месяца','y']].reset_index()#.drop('ds',axis=1)\n",
    "\n",
    "                mean2829=np.mean(_mean_day_year.loc[(_mean_day_year['Месяц']==2)&(_mean_day_year['День месяца'].isin([28,29])),'y'])\n",
    "                mean2801=np.mean(_mean_day_year.loc[(_mean_day_year['Месяц']==2)&(_mean_day_year['День месяца']==28)|(_mean_day_year['Месяц']==3)&(_mean_day_year['День месяца']==1),'y'])\n",
    "\n",
    "                _mean_day_year.loc[(_mean_day_year['Месяц']==2)&(_mean_day_year['День месяца']==28),'y']=mean2829\n",
    "                _mean_day_year.loc[(_mean_day_year['Месяц']==2)&(_mean_day_year['День месяца']==29),'y']=mean2801   \n",
    "\n",
    "                mean_day_year=dict(_mean_day_year.groupby(['Месяц','День месяца'])['y'].mean())\n",
    "                ts['Среднее по дню года']=ts.apply(lambda row: mean_day_year[row['Месяц'],row['День месяца']] if row['Год']==year else row['Среднее по дню года'] , axis=1)             \n",
    "                max_day_year=dict(_mean_day_year.groupby(['Месяц','День месяца'])['y'].max())\n",
    "                ts['Максимальное по дню года']=ts.apply(lambda row: max_day_year[row['Месяц'],row['День месяца']] if row['Год']==year else row['Максимальное по дню года'] , axis=1)\n",
    "                min_day_year=dict(_mean_day_year.groupby(['Месяц','День месяца'])['y'].min())\n",
    "                ts['Минимальное по дню года']=ts.apply(lambda row: min_day_year[row['Месяц'],row['День месяца']] if row['Год']==year else row['Минимальное по дню года'] , axis=1)\n",
    "                \n",
    "            ts['Квантили']=ts.apply(lambda row: self.setPercentil(row['Среднее по дню года'],percentiles), axis=1)\n",
    "\n",
    "\n",
    "            #порядок дней в сезонности недельной продажи за исключением аномалий\n",
    "            week_d=pd.DataFrame(data=ts[ts['Квантили']==0].groupby('День недели')['y'].sum().sort_values())\n",
    "            week_d.insert(0,'Недельная сезонность',list(range(week_d.shape[0])))\n",
    "            for i in list(set(range(7))-set(week_d.index.values)):\n",
    "                week_d.loc[i,'Недельная сезонность']=-1\n",
    "            ts=self.weekseason(ts,week_d)\n",
    "\n",
    "            #Среднее и тренды                        \n",
    "            mean_dict=dict(ts.groupby(['Год'])['y'].mean())\n",
    "            ts['Среднее за год']=ts.apply(lambda row: mean_dict[row['Год']] , axis=1)        \n",
    "\n",
    "            #РАССЧИТЫВАЕМ коэффициент роста\n",
    "            mean_month=ts.groupby(['Год','Месяц'])['y'].mean()\n",
    "            mean_month_shift=mean_month.shift(12).fillna(0)\n",
    "            inc_temp=(mean_month/mean_month_shift-1)#*mean_month.shift(11).fillna(0)        \n",
    "            last_tempo=inc_temp.tail(1).values[0]\n",
    "\n",
    "            #Вычленяем целевую переменную\n",
    "            y=ts.y\n",
    "            ts.drop(['y'], axis=1, inplace=True)\n",
    "\n",
    "            #заглушки        \n",
    "            ts.drop(['День недели'], axis=1, inplace=True)                \n",
    "\n",
    "            self.week_d=week_d\n",
    "            self.mean_day_year=mean_day_year\n",
    "            self.percentiles=percentiles\n",
    "            self.last_tempo=last_tempo            \n",
    "            self.last_vals=ts.tail(1)\n",
    "            self.columns=ts.columns\n",
    "            self.max_day_year=max_day_year\n",
    "            self.min_day_year=min_day_year\n",
    "        return ts,y\n",
    "\n",
    "\n",
    "    def weekseason(self,ts,week_d):\n",
    "        ts['Недельная сезонность']=ts['День недели'].map(lambda cell: week_d.loc[cell,'Недельная сезонность'])\n",
    "        return ts\n",
    "\n",
    "    #Сдвигаем период на год вперед\n",
    "    def fillTimeSeriesForecast(self,_tsf):\n",
    "        tsf=self.weekseason(_tsf,self.week_d)\n",
    "        tsf.drop(['День недели'], axis=1, inplace=True)\n",
    "\n",
    "        tsf['Среднее по дню года']=tsf.apply(lambda row: self.mean_day_year[row['Месяц'],row['День месяца']], axis=1)\n",
    "        tsf['Квантили']=tsf.apply(lambda row: self.setPercentil(row['Среднее по дню года'],self.percentiles), axis=1)\n",
    "\n",
    "        tsf['Максимальное по дню года']=tsf.apply(lambda row: self.max_day_year[row['Месяц'],row['День месяца']], axis=1)\n",
    "        tsf['Минимальное по дню года']=tsf.apply(lambda row: self.min_day_year[row['Месяц'],row['День месяца']], axis=1)\n",
    "        \n",
    "        \n",
    "        #Мы знаем средние данные за год, учитываем как тренд        \n",
    "        for col in ['Среднее за год']:\n",
    "            tsf[col]=self.last_vals[col].values[0]\n",
    "        return tsf[self.columns]#Колонки в правильном порядке\n",
    "\n",
    "\n",
    "    def createTimeSeriesForecast(self,begin, end):\n",
    "        date_list = pd.date_range(begin, end).tolist()\n",
    "        time_series_forecast=pd.DataFrame(index=date_list)\n",
    "        time_series_forecast.index.name='ds'    \n",
    "\n",
    "        time_series_forecast,_=self.setNewValues(time_series_forecast)\n",
    "\n",
    "        return self.fillTimeSeriesForecast(time_series_forecast)        "
   ]
  },
  {
   "cell_type": "code",
   "execution_count": 51,
   "metadata": {
    "scrolled": true
   },
   "outputs": [],
   "source": [
    "lastDay=end_period\n",
    "\n",
    "new_model=modelForecast(celebrate)\n",
    "time_series_train, y_train=new_model.setNewValues(time_series.loc[:lastDay])\n",
    "    \n",
    "tss = TimeSeriesSplit(n_splits=10)\n",
    "tss_cv=list(tss.split(time_series_train,y_train))\n",
    "\n",
    "# задаём параметры\n",
    "params = {\n",
    "        'objective': 'reg:linear',\n",
    "        'booster':'gblinear',                \n",
    "        'eta': 0.23,#коэффициент обучения\n",
    "        'alpha': 0.1,        \n",
    "        'eval_metric': 'rmse'\n",
    "    }\n",
    "\n",
    "#Нормализуйте обучающую выборку с помощью класса StandardScaler\n",
    "scaler = StandardScaler(with_mean=True,with_std=True)\n",
    "dtrain = xgb.DMatrix(scaler.fit_transform(time_series_train), label=y_train)#\n",
    "\n",
    "# прогоняем на кросс-валидации с метрикой rmse\n",
    "cv = xgb.cv(params, dtrain, metrics = ('rmse'), early_stopping_rounds=50,verbose_eval=False, show_stdv=False, num_boost_round=1500,folds=tss_cv)#,nfold=10\n",
    "\n",
    "mod_n=cv['test-rmse-mean'].argmin()\n",
    "\n",
    "deviation = cv.loc[mod_n][\"test-rmse-mean\"]\n",
    "best_iteration=mod_n\n",
    "\n",
    "#Модель предсказания\n",
    "time_series_forecast=new_model.createTimeSeriesForecast(start_forecast, end_forecast)"
   ]
  },
  {
   "cell_type": "code",
   "execution_count": 52,
   "metadata": {},
   "outputs": [
    {
     "name": "stdout",
     "output_type": "stream",
     "text": [
      "Средняя ошибка на кросс-валидации:  3.8723616 , номер модели:  38\n",
      "Темп прироста по сравнению с прошлым годом:  -0.183486238532\n",
      "RSME =  5.42098669747\n"
     ]
    }
   ],
   "source": [
    "bst = xgb.train(params, dtrain, best_iteration,verbose_eval=False)\n",
    "prediction_test = pd.DataFrame(data=bst.predict(xgb.DMatrix(scaler.transform(time_series_forecast))),index=time_series_forecast.index)#\n",
    "prediction_test[0]=prediction_test[0].map(lambda val: 0 if val<0.01 else round(val,0))\n",
    "\n",
    "print('Средняя ошибка на кросс-валидации: ',deviation,', номер модели: ',mod_n)\n",
    "print('Темп прироста по сравнению с прошлым годом: ',new_model.last_tempo)\n",
    "\n",
    "y_test=time_series.loc[time_series_forecast.index]\n",
    "print('RSME = ',np.sqrt(mean_squared_error(y_test.y,prediction_test[0])))"
   ]
  },
  {
   "cell_type": "code",
   "execution_count": 53,
   "metadata": {},
   "outputs": [
    {
     "data": {
      "text/html": [
       "<script>requirejs.config({paths: { 'plotly': ['https://cdn.plot.ly/plotly-latest.min']},});if(!window.Plotly) {{require(['plotly'],function(plotly) {window.Plotly=plotly;});}}</script>"
      ],
      "text/plain": [
       "<IPython.core.display.HTML object>"
      ]
     },
     "metadata": {},
     "output_type": "display_data"
    },
    {
     "data": {
      "text/html": [
       "<div id=\"8c37d701-2169-4ae7-a364-6b456c843bd7\" style=\"height: 525px; width: 100%;\" class=\"plotly-graph-div\"></div><script type=\"text/javascript\">require([\"plotly\"], function(Plotly) { window.PLOTLYENV=window.PLOTLYENV || {};window.PLOTLYENV.BASE_URL=\"https://plot.ly\";Plotly.newPlot(\"8c37d701-2169-4ae7-a364-6b456c843bd7\", [{\"type\": \"scatter\", \"x\": [\"2017-05-01\", \"2017-05-02\", \"2017-05-03\", \"2017-05-04\", \"2017-05-05\", \"2017-05-06\", \"2017-05-07\", \"2017-05-08\", \"2017-05-09\", \"2017-05-10\", \"2017-05-11\", \"2017-05-12\", \"2017-05-13\", \"2017-05-14\", \"2017-05-15\", \"2017-05-16\", \"2017-05-17\", \"2017-05-18\", \"2017-05-19\", \"2017-05-20\", \"2017-05-21\", \"2017-05-22\", \"2017-05-23\", \"2017-05-24\", \"2017-05-25\", \"2017-05-26\", \"2017-05-27\", \"2017-05-28\", \"2017-05-29\", \"2017-05-30\", \"2017-05-31\"], \"y\": [4.0, 3.0, 5.0, 3.0, 3.0, 4.0, 7.0, 8.0, 1.0, 11.0, 5.0, 4.0, 8.0, 4.0, 8.0, 11.0, 8.0, 7.0, 9.0, 16.0, 10.0, 2.0, 4.0, 19.0, 0.0, 6.0, 4.0, 6.0, 4.0, 9.0, 7.0], \"mode\": \"lines\", \"name\": \"\\u041f\\u0440\\u043e\\u0433\\u043d\\u043e\\u0437 2017\", \"line\": {\"shape\": \"spline\", \"dash\": \"dash\", \"width\": 3}}, {\"type\": \"scatter\", \"x\": [\"2017-05-01\", \"2017-05-02\", \"2017-05-03\", \"2017-05-04\", \"2017-05-05\", \"2017-05-06\", \"2017-05-07\", \"2017-05-08\", \"2017-05-09\", \"2017-05-10\", \"2017-05-11\", \"2017-05-12\", \"2017-05-13\", \"2017-05-14\", \"2017-05-15\", \"2017-05-16\", \"2017-05-17\", \"2017-05-18\", \"2017-05-19\", \"2017-05-20\", \"2017-05-21\", \"2017-05-22\", \"2017-05-23\", \"2017-05-24\", \"2017-05-25\", \"2017-05-26\", \"2017-05-27\", \"2017-05-28\", \"2017-05-29\", \"2017-05-30\", \"2017-05-31\"], \"y\": [4.0, 2.0, 0.0, 2.0, 7.0, 2.0, 6.0, 4.0, 5.0, 1.0, 0.0, 6.0, 6.0, 8.0, 5.0, 10.0, 2.0, 9.0, 17.0, 3.0, 8.0, 5.0, 3.0, 2.0, 1.0, 3.0, 3.0, 2.0, 5.0, 1.0, 5.0], \"mode\": \"lines\", \"name\": \"\\u041f\\u0440\\u043e\\u0434\\u0430\\u0436\\u0438 2017\", \"line\": {\"shape\": \"spline\"}}, {\"type\": \"scatter\", \"x\": [\"2017-01-01\", \"2017-01-02\", \"2017-01-03\", \"2017-01-04\", \"2017-01-05\", \"2017-01-06\", \"2017-01-07\", \"2017-01-08\", \"2017-01-09\", \"2017-01-10\", \"2017-01-11\", \"2017-01-12\", \"2017-01-13\", \"2017-01-14\", \"2017-01-15\", \"2017-01-16\", \"2017-01-17\", \"2017-01-18\", \"2017-01-19\", \"2017-01-20\", \"2017-01-21\", \"2017-01-22\", \"2017-01-23\", \"2017-01-24\", \"2017-01-25\", \"2017-01-26\", \"2017-01-27\", \"2017-01-28\", \"2017-01-29\", \"2017-01-30\", \"2017-01-31\", \"2017-02-01\", \"2017-02-02\", \"2017-02-03\", \"2017-02-04\", \"2017-02-05\", \"2017-02-06\", \"2017-02-07\", \"2017-02-08\", \"2017-02-09\", \"2017-02-10\", \"2017-02-11\", \"2017-02-12\", \"2017-02-13\", \"2017-02-14\", \"2017-02-15\", \"2017-02-16\", \"2017-02-17\", \"2017-02-18\", \"2017-02-19\", \"2017-02-20\", \"2017-02-21\", \"2017-02-22\", \"2017-02-23\", \"2017-02-24\", \"2017-02-25\", \"2017-02-26\", \"2017-02-27\", \"2017-02-28\", \"2017-03-01\", \"2017-03-02\", \"2017-03-03\", \"2017-03-04\", \"2017-03-05\", \"2017-03-06\", \"2017-03-07\", \"2017-03-08\", \"2017-03-09\", \"2017-03-10\", \"2017-03-11\", \"2017-03-12\", \"2017-03-13\", \"2017-03-14\", \"2017-03-15\", \"2017-03-16\", \"2017-03-17\", \"2017-03-18\", \"2017-03-19\", \"2017-03-20\", \"2017-03-21\", \"2017-03-22\", \"2017-03-23\", \"2017-03-24\", \"2017-03-25\", \"2017-03-26\", \"2017-03-27\", \"2017-03-28\", \"2017-03-29\", \"2017-03-30\", \"2017-03-31\", \"2017-04-01\", \"2017-04-02\", \"2017-04-03\", \"2017-04-04\", \"2017-04-05\", \"2017-04-06\", \"2017-04-07\", \"2017-04-08\", \"2017-04-09\", \"2017-04-10\", \"2017-04-11\", \"2017-04-12\", \"2017-04-13\", \"2017-04-14\", \"2017-04-15\", \"2017-04-16\", \"2017-04-17\", \"2017-04-18\", \"2017-04-19\", \"2017-04-20\", \"2017-04-21\", \"2017-04-22\", \"2017-04-23\", \"2017-04-24\", \"2017-04-25\", \"2017-04-26\", \"2017-04-27\", \"2017-04-28\", \"2017-04-29\", \"2017-04-30\", \"2017-05-01\", \"2017-05-02\", \"2017-05-03\", \"2017-05-04\", \"2017-05-05\", \"2017-05-06\", \"2017-05-07\", \"2017-05-08\", \"2017-05-09\", \"2017-05-10\", \"2017-05-11\", \"2017-05-12\", \"2017-05-13\", \"2017-05-14\", \"2017-05-15\", \"2017-05-16\", \"2017-05-17\", \"2017-05-18\", \"2017-05-19\", \"2017-05-20\", \"2017-05-21\", \"2017-05-22\", \"2017-05-23\", \"2017-05-24\", \"2017-05-25\", \"2017-05-26\", \"2017-05-27\", \"2017-05-28\", \"2017-05-29\", \"2017-05-30\", \"2017-05-31\", \"2017-06-01\"], \"y\": [1.0, 35.0, 58.0, 27.0, 36.0, 21.0, 11.0, 7.0, 8.0, 9.0, 2.0, 6.0, 2.0, 11.0, 10.0, 15.0, 16.0, 10.0, 15.0, 2.0, 11.0, 7.0, 8.0, 8.0, 18.0, 11.0, 6.0, 5.0, 2.0, 7.0, 23.0, 10.0, 4.0, 4.0, 11.0, 0.0, 4.0, 19.0, 19.0, 7.0, 15.0, 5.0, 4.0, 17.0, 53.0, 17.0, 4.0, 2.0, 2.0, 16.0, 11.0, 12.0, 15.0, 11.0, 5.0, 12.0, 2.0, 7.0, 31.0, 12.0, 9.0, 9.0, 8.0, 17.0, 19.0, 55.0, 27.0, 17.0, 3.0, 19.0, 8.0, 11.0, 23.0, 5.0, 1.0, 6.0, 11.0, 1.0, 5.0, 16.0, 9.0, 8.0, 10.0, 9.0, 4.0, 8.0, 23.0, 6.0, 2.0, 12.0, 19.0, 1.0, 2.0, 9.0, 5.0, 1.0, 1.0, 2.0, 10.0, 1.0, 5.0, 6.0, 1.0, 1.0, 1.0, 7.0, 12.0, 19.0, 4.0, 15.0, 4.0, 3.0, 1.0, 7.0, 12.0, 15.0, 8.0, 9.0, 9.0, 3.0, 3.0, 4.0, 0.0, 2.0, 1.0, 1.0, 4.0, 4.0, 3.0, 3.0, 8.0, 5.0, 6.0, 2.0, 14.0, 20.0, 21.0, 7.0, 2.0, 22.0, 6.0, 1.0, 7.0, 16.0, 0.0, 9.0, 6.0, 5.0, 9.0, 21.0, 15.0, 5.0], \"mode\": \"lines\", \"name\": \"2015 \\u0433\\u043e\\u0434\", \"line\": {\"shape\": \"spline\", \"dash\": \"dot\"}}, {\"type\": \"scatter\", \"x\": [\"2017-01-01\", \"2017-01-02\", \"2017-01-03\", \"2017-01-04\", \"2017-01-05\", \"2017-01-06\", \"2017-01-07\", \"2017-01-08\", \"2017-01-09\", \"2017-01-10\", \"2017-01-11\", \"2017-01-12\", \"2017-01-13\", \"2017-01-14\", \"2017-01-15\", \"2017-01-16\", \"2017-01-17\", \"2017-01-18\", \"2017-01-19\", \"2017-01-20\", \"2017-01-21\", \"2017-01-22\", \"2017-01-23\", \"2017-01-24\", \"2017-01-25\", \"2017-01-26\", \"2017-01-27\", \"2017-01-28\", \"2017-01-29\", \"2017-01-30\", \"2017-01-31\", \"2017-02-01\", \"2017-02-02\", \"2017-02-03\", \"2017-02-04\", \"2017-02-05\", \"2017-02-06\", \"2017-02-07\", \"2017-02-08\", \"2017-02-09\", \"2017-02-10\", \"2017-02-11\", \"2017-02-12\", \"2017-02-13\", \"2017-02-14\", \"2017-02-15\", \"2017-02-16\", \"2017-02-17\", \"2017-02-18\", \"2017-02-19\", \"2017-02-20\", \"2017-02-21\", \"2017-02-22\", \"2017-02-23\", \"2017-02-24\", \"2017-02-25\", \"2017-02-26\", \"2017-02-27\", \"2017-02-28\", \"2017-02-28\", \"2017-03-01\", \"2017-03-02\", \"2017-03-03\", \"2017-03-04\", \"2017-03-05\", \"2017-03-06\", \"2017-03-07\", \"2017-03-08\", \"2017-03-09\", \"2017-03-10\", \"2017-03-11\", \"2017-03-12\", \"2017-03-13\", \"2017-03-14\", \"2017-03-15\", \"2017-03-16\", \"2017-03-17\", \"2017-03-18\", \"2017-03-19\", \"2017-03-20\", \"2017-03-21\", \"2017-03-22\", \"2017-03-23\", \"2017-03-24\", \"2017-03-25\", \"2017-03-26\", \"2017-03-27\", \"2017-03-28\", \"2017-03-29\", \"2017-03-30\", \"2017-03-31\", \"2017-04-01\", \"2017-04-02\", \"2017-04-03\", \"2017-04-04\", \"2017-04-05\", \"2017-04-06\", \"2017-04-07\", \"2017-04-08\", \"2017-04-09\", \"2017-04-10\", \"2017-04-11\", \"2017-04-12\", \"2017-04-13\", \"2017-04-14\", \"2017-04-15\", \"2017-04-16\", \"2017-04-17\", \"2017-04-18\", \"2017-04-19\", \"2017-04-20\", \"2017-04-21\", \"2017-04-22\", \"2017-04-23\", \"2017-04-24\", \"2017-04-25\", \"2017-04-26\", \"2017-04-27\", \"2017-04-28\", \"2017-04-29\", \"2017-04-30\", \"2017-05-01\", \"2017-05-02\", \"2017-05-03\", \"2017-05-04\", \"2017-05-05\", \"2017-05-06\", \"2017-05-07\", \"2017-05-08\", \"2017-05-09\", \"2017-05-10\", \"2017-05-11\", \"2017-05-12\", \"2017-05-13\", \"2017-05-14\", \"2017-05-15\", \"2017-05-16\", \"2017-05-17\", \"2017-05-18\", \"2017-05-19\", \"2017-05-20\", \"2017-05-21\", \"2017-05-22\", \"2017-05-23\", \"2017-05-24\", \"2017-05-25\", \"2017-05-26\", \"2017-05-27\", \"2017-05-28\", \"2017-05-29\", \"2017-05-30\", \"2017-05-31\", \"2017-06-01\"], \"y\": [6.0, 14.0, 57.0, 20.0, 14.0, 13.0, 2.0, 16.0, 11.0, 12.0, 1.0, 11.0, 7.0, 3.0, 7.0, 9.0, 13.0, 2.0, 2.0, 15.0, 6.0, 8.0, 14.0, 3.0, 15.0, 1.0, 2.0, 3.0, 4.0, 27.0, 11.0, 4.0, 1.0, 4.0, 2.0, 11.0, 15.0, 7.0, 3.0, 2.0, 10.0, 8.0, 10.0, 15.0, 18.0, 1.0, 11.0, 8.0, 1.0, 4.0, 4.0, 12.0, 13.0, 6.0, 2.0, 3.0, 3.0, 19.0, 7.0, 3.0, 13.0, 7.0, 30.0, 12.0, 37.0, 57.0, 53.0, 29.0, 3.0, 7.0, 10.0, 9.0, 17.0, 5.0, 4.0, 1.0, 5.0, 6.0, 14.0, 11.0, 9.0, 4.0, 1.0, 1.0, 20.0, 3.0, 6.0, 0.0, 3.0, 4.0, 0.0, 1.0, 10.0, 18.0, 8.0, 1.0, 1.0, 14.0, 6.0, 5.0, 17.0, 3.0, 24.0, 1.0, 4.0, 3.0, 8.0, 7.0, 18.0, 2.0, 2.0, 2.0, 10.0, 5.0, 10.0, 2.0, 5.0, 15.0, 1.0, 13.0, 2.0, 4.0, 3.0, 15.0, 2.0, 3.0, 5.0, 6.0, 15.0, 0.0, 25.0, 2.0, 1.0, 8.0, 4.0, 6.0, 8.0, 1.0, 7.0, 18.0, 12.0, 13.0, 6.0, 3.0, 28.0, 0.0, 3.0, 2.0, 5.0, 3.0, 5.0, 4.0, 4.0], \"mode\": \"lines\", \"name\": \"2016 \\u0433\\u043e\\u0434\", \"line\": {\"shape\": \"spline\", \"dash\": \"dot\"}}, {\"type\": \"scatter\", \"x\": [\"2017-05-01\", \"2017-05-02\", \"2017-05-03\", \"2017-05-04\", \"2017-05-05\", \"2017-05-06\", \"2017-05-07\", \"2017-05-08\", \"2017-05-09\", \"2017-05-10\", \"2017-05-11\", \"2017-05-12\", \"2017-05-13\", \"2017-05-14\", \"2017-05-15\", \"2017-05-16\", \"2017-05-17\", \"2017-05-18\", \"2017-05-19\", \"2017-05-20\", \"2017-05-21\", \"2017-05-22\", \"2017-05-23\", \"2017-05-24\", \"2017-05-25\", \"2017-05-26\", \"2017-05-27\", \"2017-05-28\", \"2017-05-29\", \"2017-05-30\", \"2017-05-31\"], \"y\": [0.0, -1.0, -5.0, -1.0, 4.0, -2.0, -1.0, -4.0, 4.0, -10.0, -5.0, 2.0, -2.0, 4.0, -3.0, -1.0, -6.0, 2.0, 8.0, -13.0, -2.0, 3.0, -1.0, -17.0, 1.0, -3.0, -1.0, -4.0, 1.0, -8.0, -2.0], \"mode\": \"markers\", \"name\": \"\\u0420\\u0430\\u0437\\u043d\\u0438\\u0446\\u0430 \\u043f\\u0440\\u043e\\u0433\\u043d\\u043e\\u0437\\u0430 \\u0438 \\u0434\\u0430\\u043d\\u043d\\u044b\\u0445\", \"line\": {\"shape\": \"spline\", \"dash\": \"dot\"}}], {\"title\": \"\\u0414\\u0430\\u0442\\u0430>=20150101 and \\u041c\\u0430\\u0433\\u0430\\u0437\\u0438\\u043d=='\\u0420\\u0418\\u041e \\u0414\\u043c\\u0438\\u0442\\u0440\\u043e\\u0432\\u043a\\u0430'\"}, {\"showLink\": false, \"linkText\": \"Export to plot.ly\"})});</script>"
      ],
      "text/plain": [
       "<IPython.core.display.HTML object>"
      ]
     },
     "metadata": {},
     "output_type": "display_data"
    }
   ],
   "source": [
    "y_test=time_series[start_forecast:end_forecast]\n",
    "\n",
    "\n",
    "init_notebook_mode(connected = True)\n",
    "trace1 = go.Scatter(\n",
    "            x = prediction_test.index,\n",
    "            y = prediction_test[0],\n",
    "            mode = 'lines',            \n",
    "            name = 'Прогноз 2017',\n",
    "            line=dict(\n",
    "                shape='spline',\n",
    "                dash = 'dash',\n",
    "                width = 3\n",
    "            )\n",
    "        )       \n",
    "\n",
    "ty=(time_series[dt.datetime(2016,1,1):dt.datetime(2016,6,1)].shift(1,DateOffset(years=1)))\n",
    "trace0 = go.Scatter(\n",
    "            x = ty.index,\n",
    "            y = ty.y,\n",
    "            mode = 'lines',            \n",
    "            name = '2016 год',\n",
    "            line=dict(\n",
    "                shape='spline',\n",
    "                dash = 'dot'\n",
    "            )\n",
    "        )       \n",
    "\n",
    "ty=(time_series[dt.datetime(2015,1,1):dt.datetime(2015,6,1)].shift(2,DateOffset(years=1)))\n",
    "trace5 = go.Scatter(\n",
    "            x = ty.index,\n",
    "            y = ty.y,\n",
    "            mode = 'lines',            \n",
    "            name = '2015 год',\n",
    "            line=dict(\n",
    "                shape='spline',\n",
    "                dash = 'dot'\n",
    "            )\n",
    "        )   \n",
    "\n",
    "\n",
    "trace2 = go.Scatter(\n",
    "            x = y_test.index,\n",
    "            y = y_test.y,\n",
    "            mode = 'lines',            \n",
    "            name = 'Продажи 2017',\n",
    "            line=dict(\n",
    "                shape='spline'\n",
    "            )\n",
    "        ) \n",
    "trace4 = go.Scatter(\n",
    "            x = y_test.index,\n",
    "            y = y_test.y-prediction_test[0],\n",
    "            mode = 'markers',\n",
    "            name = 'Разница прогноза и данных',\n",
    "            line=dict(\n",
    "                shape='spline',\n",
    "                dash = 'dot'\n",
    "            )\n",
    "        ) \n",
    "\n",
    "layout = go.Layout(\n",
    "    title=query\n",
    ")\n",
    "    \n",
    "fig =go.Figure(data = [trace1,trace2,trace5,trace0,trace4],layout=layout)#,trace0\n",
    "iplot(fig, show_link=False)\n",
    "\n"
   ]
  },
  {
   "cell_type": "code",
   "execution_count": null,
   "metadata": {},
   "outputs": [],
   "source": [
    "time_series.tail(31)"
   ]
  },
  {
   "cell_type": "code",
   "execution_count": null,
   "metadata": {},
   "outputs": [],
   "source": [
    "time_series_forecast"
   ]
  },
  {
   "cell_type": "code",
   "execution_count": null,
   "metadata": {},
   "outputs": [],
   "source": [
    "time_series.loc[time_series_forecast.index].tail(10)"
   ]
  },
  {
   "cell_type": "code",
   "execution_count": null,
   "metadata": {},
   "outputs": [],
   "source": [
    "time_series.tail(10)"
   ]
  },
  {
   "cell_type": "code",
   "execution_count": 18,
   "metadata": {},
   "outputs": [
    {
     "data": {
      "text/plain": [
       "(            День недели  Выходной  Неделя   Год  Месяц  День месяца\n",
       " ds                                                                 \n",
       " 2017-05-01            0         1      18  2017      5            1\n",
       " 2017-05-02            1         0      18  2017      5            2\n",
       " 2017-05-03            2         0      18  2017      5            3\n",
       " 2017-05-04            3         0      18  2017      5            4\n",
       " 2017-05-05            4         0      18  2017      5            5\n",
       " 2017-05-06            5         1      18  2017      5            6\n",
       " 2017-05-07            6         1      18  2017      5            7\n",
       " 2017-05-08            0         1      19  2017      5            8\n",
       " 2017-05-09            1         1      19  2017      5            9\n",
       " 2017-05-10            2         0      19  2017      5           10\n",
       " 2017-05-11            3         0      19  2017      5           11\n",
       " 2017-05-12            4         0      19  2017      5           12\n",
       " 2017-05-13            5         1      19  2017      5           13\n",
       " 2017-05-14            6         1      19  2017      5           14\n",
       " 2017-05-15            0         0      20  2017      5           15\n",
       " 2017-05-16            1         0      20  2017      5           16\n",
       " 2017-05-17            2         0      20  2017      5           17\n",
       " 2017-05-18            3         0      20  2017      5           18\n",
       " 2017-05-19            4         0      20  2017      5           19\n",
       " 2017-05-20            5         1      20  2017      5           20\n",
       " 2017-05-21            6         1      20  2017      5           21\n",
       " 2017-05-22            0         0      21  2017      5           22\n",
       " 2017-05-23            1         0      21  2017      5           23\n",
       " 2017-05-24            2         0      21  2017      5           24\n",
       " 2017-05-25            3         0      21  2017      5           25\n",
       " 2017-05-26            4         0      21  2017      5           26\n",
       " 2017-05-27            5         1      21  2017      5           27\n",
       " 2017-05-28            6         1      21  2017      5           28\n",
       " 2017-05-29            0         0      22  2017      5           29\n",
       " 2017-05-30            1         0      22  2017      5           30\n",
       " 2017-05-31            2         0      22  2017      5           31, None)"
      ]
     },
     "execution_count": 18,
     "metadata": {},
     "output_type": "execute_result"
    }
   ],
   "source": [
    "time_series_forecast"
   ]
  },
  {
   "cell_type": "code",
   "execution_count": null,
   "metadata": {},
   "outputs": [],
   "source": [
    "ts=time_series.copy()\n",
    "ts['Год'] = ts.index.year\n",
    "ts['Месяц'] = ts.index.month\n",
    "\n",
    "mean_month=ts.groupby(['Год','Месяц'])['y'].mean()\n",
    "mean_month_shift=mean_month.shift(12).fillna(0)\n",
    "inc_temp=(mean_month/mean_month_shift-1)#*mean_month.shift(11).fillna(0)        \n",
    "inc_temp"
   ]
  },
  {
   "cell_type": "code",
   "execution_count": null,
   "metadata": {
    "collapsed": true
   },
   "outputs": [],
   "source": []
  }
 ],
 "metadata": {
  "kernelspec": {
   "display_name": "Python 3",
   "language": "python",
   "name": "python3"
  },
  "language_info": {
   "codemirror_mode": {
    "name": "ipython",
    "version": 3
   },
   "file_extension": ".py",
   "mimetype": "text/x-python",
   "name": "python",
   "nbconvert_exporter": "python",
   "pygments_lexer": "ipython3",
   "version": "3.6.0"
  }
 },
 "nbformat": 4,
 "nbformat_minor": 2
}
