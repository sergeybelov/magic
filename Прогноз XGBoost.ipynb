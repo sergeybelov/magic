{
 "cells": [
  {
   "cell_type": "code",
   "execution_count": 1,
   "metadata": {},
   "outputs": [
    {
     "name": "stderr",
     "output_type": "stream",
     "text": [
      "C:\\Users\\TEMP\\AppData\\Local\\Continuum\\Anaconda3\\lib\\site-packages\\sklearn\\cross_validation.py:44: DeprecationWarning: This module was deprecated in version 0.18 in favor of the model_selection module into which all the refactored classes and functions are moved. Also note that the interface of the new CV iterators are different from that of this module. This module will be removed in 0.20.\n",
      "  \"This module will be removed in 0.20.\", DeprecationWarning)\n"
     ]
    }
   ],
   "source": [
    "import pandas as pd\n",
    "import numpy as np\n",
    "import datetime as dt\n",
    "import xgboost as xgb\n",
    "#https://habrahabr.ru/company/ods/blog/327242/\n",
    "\n",
    "import matplotlib.pyplot as plt\n",
    "from sklearn.metrics import mean_absolute_error\n",
    "%matplotlib inline\n",
    "import seaborn as sb\n",
    "from sklearn.model_selection import TimeSeriesSplit\n",
    "from sklearn.preprocessing import StandardScaler\n",
    "\n",
    "\n",
    "from plotly.offline import download_plotlyjs, init_notebook_mode, plot, iplot\n",
    "from plotly import __version__\n",
    "from plotly import graph_objs as go"
   ]
  },
  {
   "cell_type": "markdown",
   "metadata": {},
   "source": [
    "## Формируем выборку временного ряда"
   ]
  },
  {
   "cell_type": "code",
   "execution_count": 2,
   "metadata": {
    "collapsed": true
   },
   "outputs": [],
   "source": [
    "df=pd.read_pickle('MG_Sales.pickle',compression='gzip')\n",
    "celebrate=pd.read_pickle('celebrate.pickle')\n",
    "#df['Дата']=np.array(df['Дата'], dtype='datetime64[M]')"
   ]
  },
  {
   "cell_type": "markdown",
   "metadata": {},
   "source": [
    "## Формируем выборку"
   ]
  },
  {
   "cell_type": "code",
   "execution_count": 4,
   "metadata": {},
   "outputs": [],
   "source": [
    "begin_period=dt.datetime(2015,1,1)\n",
    "prediction_period=dt.datetime(2017,5,1)\n",
    "\n",
    "\n",
    "#Пустой период в днях обучающей выборки\n",
    "delta=prediction_period-begin_period\n",
    "dummy_train = pd.DataFrame(index=np.array([begin_period + dt.timedelta(days=x) for x in range(0, delta.days)]).astype('datetime64[D]'))\n",
    "dummy_train.index.name='ds'\n",
    "\n",
    "#last_d=begin_period-dt.timedelta(days=30)\n",
    "#(df['Магазин']=='Пермь (Колизей)  Ефименко О.Г.')&\n",
    "#&(df['Дата']<prediction_period)prediction_period\n",
    "\n",
    "#  and Магазин=='Варшавский' and ТоварЦеноваяГруппа=='18000-23000'  and Коллекция=='Аметисты с фианитами' and ЦветМеталла=='Красное золото'\n",
    "#ТоварЦеноваяГруппа\n",
    "#0-2100 \n",
    "time_series=pd.DataFrame(data=df.query(\"Дата>=20150101 and ТоварЦеноваяГруппа=='2100-3200'\").groupby('Дата')['Количество'].sum())\n",
    "time_series.index.name='ds'\n",
    "time_series.columns=['y']\n",
    "time_series.y=time_series.y\n",
    "#сливаем обучающую выборку и пустой период чтобы избежать пропусков дат, пропуски заполняем нулями\n",
    "time_series=dummy_train.merge(time_series,left_index=True, right_index=True,how='outer').fillna(0)  \n",
    "\n",
    "#time_series=time_series.loc[:prediction_period-dt.timedelta(seconds=1)]\n",
    "y_test=time_series.loc[prediction_period:,'y']\n",
    "\n",
    "\n",
    "date_list = np.array([prediction_period + dt.timedelta(days=x) for x in range(0, 30+31)]).astype('datetime64[D]')\n",
    "time_series_forecast=pd.DataFrame(index=date_list)\n",
    "time_series_forecast.index.name='ds'"
   ]
  },
  {
   "cell_type": "markdown",
   "metadata": {},
   "source": [
    "## Фомируем характеристики модели"
   ]
  },
  {
   "cell_type": "code",
   "execution_count": 5,
   "metadata": {},
   "outputs": [],
   "source": [
    "#Фиксируем аномально низкие и высокие продажи\n",
    "ul=5#Персентиль высоких продаж 2\n",
    "ll=5#7#Персентиль низких продаж 10\n",
    "md=15#ширина медианы\n",
    "\n",
    "ulim=np.percentile(time_series['y'], 100.-ul)\n",
    "llim=np.percentile(time_series['y'], ll)\n",
    "med=np.percentile(time_series['y'], [50-md,50+md])\n",
    "\n",
    "\n",
    "time_series['Квантили']=0\n",
    "time_series.loc[time_series.y<med[0],'Квантили']=-1\n",
    "time_series.loc[time_series.y>med[1],'Квантили']=1\n",
    "time_series.loc[time_series.y<llim,'Квантили']=-2\n",
    "time_series.loc[time_series.y>ulim,'Квантили']=2\n",
    "\n",
    "\n",
    "#вычисляем год назад\n",
    "def yearsago(years, from_date):\n",
    "    try:\n",
    "        return from_date.replace(year=from_date.year - years)\n",
    "    except ValueError:        \n",
    "        return from_date.replace(month=2, day=28,\n",
    "                                 year=from_date.year-years)\n",
    "\n",
    "#временные характеристики\n",
    "def setNewValues(time_series,celebrate):\n",
    "    time_series['День недели'] = time_series.index.weekday\n",
    "    time_series['Неделя'] = time_series.index.week\n",
    "    time_series['Год'] = time_series.index.year\n",
    "    time_series['День месяца'] = time_series.index.day\n",
    "    time_series['День года'] = time_series.index.dayofyear\n",
    "    time_series['Праздник']=0#Обычный день\n",
    "    time_series.loc[time_series.index.isin(celebrate['Праздник']),'Праздник']=1#праздник\n",
    "    return time_series\n",
    "\n",
    "def weekseason(time_series):\n",
    "    time_series['Недельная сезонность']=time_series['День недели'].map(lambda cell: week_d.loc[cell,'Недельная сезонность'])\n",
    "    return time_series\n",
    "\n",
    "time_series=setNewValues(time_series,celebrate)\n",
    "\n",
    "#порядок дней в сезонности недельной продажи за исключением аномалий\n",
    "week_d=pd.DataFrame(data=time_series[time_series['Квантили']==0].groupby('День недели')['y'].sum().sort_values())\n",
    "week_d.insert(0,'Недельная сезонность',list(range(week_d.shape[0])))\n",
    "for i in list(set(range(7))-set(week_d.index.values)):\n",
    "    week_d.loc[i,'Недельная сезонность']=-1\n",
    "    \n",
    "time_series=weekseason(time_series)\n",
    "\n",
    "mean_dict=dict(time_series.groupby(['Год','Неделя'])['y'].mean())\n",
    "time_series['Среднее по неделе']=time_series.apply(lambda row: mean_dict[row['Год'],row['Неделя']] , axis=1)\n",
    "mean_dict=dict(time_series.groupby(['Год'])['y'].mean())\n",
    "time_series['Среднее за год']=time_series.apply(lambda row: mean_dict[row['Год']] , axis=1)\n",
    "mean_dict=dict(time_series.groupby(['День года'])['y'].mean())\n",
    "time_series['Среднее по дню года']=time_series.apply(lambda row: mean_dict[row['День года']] , axis=1)\n",
    "time_series['Недельный тренд']=time_series['Среднее по неделе'].diff(7).fillna(0)\n",
    "\n",
    "time_series['Среднее по неделе']=0\n",
    "time_series['Среднее по дню года']=0\n",
    "\n",
    "\n",
    "\n",
    "#Вычленяем целевую переменную\n",
    "y=time_series.y\n",
    "time_series.drop(['y'], axis=1, inplace=True)\n",
    "\n",
    "\n",
    "#подготавливаем выборку для прогноза\n",
    "time_series_forecast=weekseason(setNewValues(time_series_forecast,celebrate))\n",
    "st_day=time_series_forecast.iloc[0].name\n",
    "first_day_past_year=yearsago(1, st_day)\n",
    "#вычисляем период которым мы должны взять из прошлого года\n",
    "last_day_past_year=dt.datetime(first_day_past_year.year,12,31)\n",
    "time_series[first_day_past_year:last_day_past_year]\n",
    "\n",
    "#Сдвигаем период на год вперед\n",
    "def setTimebasedValues(time_series_forecast,time_series,cols,first_day_past_year):\n",
    "    #вычленяем данные с колонками\n",
    "    time_series_copy=pd.DataFrame(data=time_series.loc[first_day_past_year:last_day_past_year,cols].copy())\n",
    "    try:\n",
    "        time_series_copy.loc[dt.datetime(first_day_past_year.year,2,28)]=time_series_copy.loc[dt.datetime(first_day_past_year.year,2,28):dt.datetime(first_day_past_year.year,2,29)].mean()\n",
    "    except:\n",
    "        pass\n",
    "        \n",
    "    time_series_forecast['Среднее за год']=time_series.tail(1)['Среднее за год'].values[0]\n",
    "    \n",
    "    #Если високосный год\n",
    "    try:            \n",
    "        time_series_forecast[cols]=pd.concat([\n",
    "                time_series_copy.loc[:dt.datetime(first_day_past_year.year,2,28),[cols]].shift(366,'D'),\n",
    "                time_series_copy.loc[dt.datetime(first_day_past_year.year,3,1):,[cols]].shift(365,'D')    \n",
    "                ], axis=0, join='outer')\n",
    "    except:\n",
    "        time_series_forecast[cols]=time_series_copy[cols].shift(365,'D')\n",
    "            #TODO Тут дополнительно отработать 29 февраля текущего года\n",
    "    return time_series_forecast\n",
    "        \n",
    "time_series_forecast=setTimebasedValues(time_series_forecast,time_series,['Недельный тренд','Квантили','Среднее по неделе','Среднее по дню года'],first_day_past_year)\n",
    "time_series_forecast=time_series_forecast[time_series.columns]\n",
    "\n",
    "del week_d"
   ]
  },
  {
   "cell_type": "markdown",
   "metadata": {},
   "source": [
    "## Обучение и валидация"
   ]
  },
  {
   "cell_type": "code",
   "execution_count": 6,
   "metadata": {},
   "outputs": [
    {
     "name": "stdout",
     "output_type": "stream",
     "text": [
      "Средняя ошибка на кросс-валидации:  16.0903696 , номер модели:  155\n"
     ]
    }
   ],
   "source": [
    "next_d=dt.datetime(2017,1,1)\n",
    "last_d=next_d-dt.timedelta(seconds=1)    \n",
    "time_series_train=time_series.loc[:last_d]\n",
    "y_train=y.loc[:last_d]\n",
    "\n",
    "#Нормализуйте обучающую выборку с помощью класса StandardScaler\n",
    "scaler = StandardScaler(with_mean=True,with_std=True)\n",
    "dtrain = xgb.DMatrix(scaler.fit_transform(time_series_train), label=y_train)\n",
    "#dtrain = xgb.DMatrix(time_series_train, label=y_train)\n",
    "\n",
    "    \n",
    "# задаём параметры\n",
    "params = {\n",
    "        'objective': 'reg:linear',\n",
    "        'booster':'gblinear',\n",
    "        'tree_method': 'exact',                \n",
    "        'eta': 0.05,#коэффициент обучения\n",
    "        'alpha': 10,\n",
    "        'lambda_bias': 10,\n",
    "        'eval_metric': 'rmse'\n",
    "    }\n",
    "trees = 1000\n",
    "    \n",
    "#фолды кросс-валидации\n",
    "tss = TimeSeriesSplit(n_splits=10)\n",
    "tss_cv=list(tss.split(time_series_train,y_train))\n",
    "\n",
    "# прогоняем на кросс-валидации с метрикой rmse\n",
    "cv = xgb.cv(params, dtrain, metrics = ('rmse'), early_stopping_rounds=True,verbose_eval=False,folds=tss_cv, show_stdv=False, num_boost_round=trees)\n",
    "\n",
    "# обучаем xgboost с оптимальным числом деревьев, подобранным на кросс-валидации\n",
    "mod_n=cv['test-rmse-mean'].argmin()\n",
    "#mod_n=cv['test-mae-mean'].argmin()\n",
    "bst = xgb.train(params, dtrain, num_boost_round=mod_n)\n",
    "    \n",
    "# запоминаем ошибку на кросс-валидации\n",
    "deviation = cv.loc[mod_n][\"test-rmse-mean\"]\n",
    "#deviation = cv.loc[mod_n][\"test-mae-mean\"]\n",
    "prediction_test = pd.DataFrame(data=bst.predict(xgb.DMatrix(scaler.transform(time_series_forecast))),index=time_series_forecast.index)\n",
    "\n",
    "\n",
    "print('Средняя ошибка на кросс-валидации: ',deviation,', номер модели: ',mod_n)\n",
    "#print('Эталон: 130.7243882')"
   ]
  },
  {
   "cell_type": "markdown",
   "metadata": {},
   "source": [
    "## Валидация на кросс-обучении"
   ]
  },
  {
   "cell_type": "code",
   "execution_count": null,
   "metadata": {},
   "outputs": [],
   "source": [
    "last=time_series.iloc[-1].name\n",
    "startDt=dt.datetime(last.year,last.month,last.day)\n",
    "lastDay=dt.datetime(last.year,last.month,1)-dt.timedelta(seconds=1)\n",
    "startmonth=dt.datetime(lastDay.year,lastDay.month,1)\n",
    "\n",
    "pediods=[]\n",
    "for i in range(4):\n",
    "    pediods.append([startmonth,startDt])    \n",
    "    startDt=startmonth-dt.timedelta(seconds=1)\n",
    "    startmonth=dt.datetime(startDt.year,startDt.month,1)  \n",
    "\n",
    "pediods.append([dt.datetime(2017,5,1),dt.datetime(2017,6,30)])\n",
    "    \n",
    "mae=[]\n",
    "mape=[]\n",
    "for begin,end in reversed(pediods):\n",
    "    date_div_past=begin-dt.timedelta(days=1)\n",
    "        \n",
    "    time_series_train=time_series.loc[:date_div_past]\n",
    "    time_series_test=time_series_forecast.loc[begin:end]\n",
    "    \n",
    "    y_train=y.loc[:date_div_past]    \n",
    "    y_test=y.loc[begin:end]    \n",
    "    \n",
    "    #bst = xgb.train(params, xgb.DMatrix(time_series_train, label=y_train), num_boost_round=mod_n)    \n",
    "    prediction_test = pd.DataFrame(data=bst.predict(xgb.DMatrix(scaler.transform(time_series_test))),index=time_series_test.index)    \n",
    "    prediction_test[0]=prediction_test[0].map(lambda val: 0 if val<0.01 else round(val,3))\n",
    "    #prediction_test[0]*=1.37\n",
    "        \n",
    "        \n",
    "    mae.append(np.mean(abs(y_test-prediction_test[0])))\n",
    "    mape.append(np.mean(100-abs(100*(y_test-prediction_test[0])/y_test)))\n",
    "    break    \n",
    "    \n",
    "print(\"XGBoost MAE: {} 100%-MAPE: {}%\".format(round(np.mean(mae),2),round(np.mean(mape),2)))"
   ]
  },
  {
   "cell_type": "code",
   "execution_count": null,
   "metadata": {},
   "outputs": [],
   "source": [
    "init_notebook_mode(connected = True)\n",
    "trace1 = go.Scatter(\n",
    "            x = prediction_test.index,\n",
    "            y = prediction_test[0],\n",
    "            mode = 'lines',            \n",
    "            name = 'Прогноз 2017',\n",
    "            line=dict(\n",
    "                shape='spline',\n",
    "                dash = 'dash',\n",
    "                width = 4\n",
    "            )\n",
    "        )       \n",
    "\n",
    "ty=(y[dt.datetime(2016,5,1):dt.datetime(2016,6,30)].shift(366,'D'))\n",
    "trace0 = go.Scatter(\n",
    "            x = ty.index,\n",
    "            y = ty,\n",
    "            mode = 'lines',            \n",
    "            name = '2016 год',\n",
    "            line=dict(\n",
    "                shape='spline',\n",
    "                dash = 'dot'\n",
    "            )\n",
    "        )       \n",
    "\n",
    "ty=(y[dt.datetime(2015,5,1):dt.datetime(2015,6,30)].shift(366+365,'D'))\n",
    "trace5 = go.Scatter(\n",
    "            x = ty.index,\n",
    "            y = ty,\n",
    "            mode = 'lines',            \n",
    "            name = '2015 год',\n",
    "            line=dict(\n",
    "                shape='spline',\n",
    "                dash = 'dot'\n",
    "            )\n",
    "        )   \n",
    "\n",
    "\n",
    "trace2 = go.Scatter(\n",
    "            x = y_test.index,\n",
    "            y = y_test,\n",
    "            mode = 'lines',            \n",
    "            name = 'Продажи 2017',\n",
    "            line=dict(\n",
    "                shape='spline'\n",
    "            )\n",
    "        ) \n",
    " \n",
    "trace3 = go.Box(\n",
    "    y=prediction_test[0],\n",
    "    name='Mean & SD Прогноз',    \n",
    "    boxmean='sd',\n",
    "    #boxpoints = 'outliers'\n",
    "    boxpoints = 'all'\n",
    ")\n",
    "\n",
    "trace4 = go.Box(\n",
    "    y=y_test,\n",
    "    \n",
    "    name='Mean & SD Данные',    \n",
    "    boxmean='sd',\n",
    "    #boxpoints = 'outliers',\n",
    "    boxpoints = 'all'\n",
    ")\n",
    "\n",
    "\n",
    "fig = dict(data = [trace1,trace2,trace5,trace0])#,trace0\n",
    "iplot(fig, show_link=False)\n",
    "\n",
    "fig = dict(data = [trace4,trace3])#,trace0\n",
    "iplot(fig, show_link=False)"
   ]
  },
  {
   "cell_type": "code",
   "execution_count": null,
   "metadata": {},
   "outputs": [],
   "source": [
    "trace = go.Scatter(\n",
    "    x = y_test.index,\n",
    "    y = y_test-prediction_test[0]\n",
    ")\n",
    "\n",
    "data = [trace]\n",
    "\n",
    "iplot(data)"
   ]
  },
  {
   "cell_type": "code",
   "execution_count": 3,
   "metadata": {},
   "outputs": [
    {
     "data": {
      "text/plain": [
       "ТоварЦеноваяГруппа\n",
       "0-2100            144785\n",
       "3200-5000         133622\n",
       "2100-3200         115097\n",
       "5000-7000         112463\n",
       "7000-9000          84569\n",
       "9000-12000         84432\n",
       "12000-15000        65061\n",
       "23000-34000        45159\n",
       "15000-18000        40928\n",
       "18000-23000        37653\n",
       "45000-60000        12374\n",
       "34000-45000        10558\n",
       "<Неопределено>      8419\n",
       "60000-75000         5079\n",
       "90000-110000        2905\n",
       "75000-90000         1928\n",
       ">150000             1104\n",
       "110000-150000        769\n",
       "Name: Количество, dtype: int64"
      ]
     },
     "execution_count": 3,
     "metadata": {},
     "output_type": "execute_result"
    }
   ],
   "source": [
    "df.groupby('ТоварЦеноваяГруппа')['Количество'].sum().sort_values(ascending=False)"
   ]
  },
  {
   "cell_type": "code",
   "execution_count": null,
   "metadata": {
    "collapsed": true
   },
   "outputs": [],
   "source": [
    "y[dt.datetime(2016,10,1):dt.datetime(2016,10,31)].mean()/y[dt.datetime(2016,11,1):dt.datetime(2017,11,30)].mean()"
   ]
  },
  {
   "cell_type": "code",
   "execution_count": null,
   "metadata": {
    "collapsed": true
   },
   "outputs": [],
   "source": [
    "y[dt.datetime(2017,1,1):dt.datetime(2017,1,31)].mean()"
   ]
  },
  {
   "cell_type": "code",
   "execution_count": null,
   "metadata": {
    "collapsed": true
   },
   "outputs": [],
   "source": [
    "np.percentile(y, ll)"
   ]
  },
  {
   "cell_type": "code",
   "execution_count": null,
   "metadata": {
    "collapsed": true
   },
   "outputs": [],
   "source": [
    "dt.datetime.now()"
   ]
  },
  {
   "cell_type": "code",
   "execution_count": null,
   "metadata": {
    "collapsed": true
   },
   "outputs": [],
   "source": [
    "time_series['Недельный тренд']=time_series['Среднее по неделе'].diff(7).fillna(0)"
   ]
  },
  {
   "cell_type": "code",
   "execution_count": null,
   "metadata": {},
   "outputs": [],
   "source": [
    "time_series['Недельный тренд'].plot()"
   ]
  },
  {
   "cell_type": "code",
   "execution_count": null,
   "metadata": {},
   "outputs": [],
   "source": [
    "time_series_forecast.head(7)"
   ]
  },
  {
   "cell_type": "code",
   "execution_count": null,
   "metadata": {},
   "outputs": [],
   "source": [
    "time_series.tail(7)"
   ]
  },
  {
   "cell_type": "code",
   "execution_count": null,
   "metadata": {},
   "outputs": [],
   "source": [
    "prediction_test.head()"
   ]
  },
  {
   "cell_type": "code",
   "execution_count": null,
   "metadata": {},
   "outputs": [],
   "source": [
    "y.tail()"
   ]
  },
  {
   "cell_type": "code",
   "execution_count": null,
   "metadata": {
    "collapsed": true
   },
   "outputs": [],
   "source": [
    "time_series_forecast['Среднее за год']=time_series.tail(1)['Среднее за год']"
   ]
  },
  {
   "cell_type": "code",
   "execution_count": null,
   "metadata": {},
   "outputs": [],
   "source": [
    "time_series.tail(1)['Среднее за год'].values[0]"
   ]
  },
  {
   "cell_type": "code",
   "execution_count": null,
   "metadata": {
    "collapsed": true
   },
   "outputs": [],
   "source": []
  }
 ],
 "metadata": {
  "kernelspec": {
   "display_name": "Python 3",
   "language": "python",
   "name": "python3"
  },
  "language_info": {
   "codemirror_mode": {
    "name": "ipython",
    "version": 3
   },
   "file_extension": ".py",
   "mimetype": "text/x-python",
   "name": "python",
   "nbconvert_exporter": "python",
   "pygments_lexer": "ipython3",
   "version": "3.6.0"
  }
 },
 "nbformat": 4,
 "nbformat_minor": 2
}
