{
 "cells": [
  {
   "cell_type": "code",
   "execution_count": null,
   "metadata": {
    "collapsed": true
   },
   "outputs": [],
   "source": [
    "import pandas as pd\n",
    "import numpy as np\n",
    "import datetime as dt\n",
    "\n",
    "import matplotlib.pyplot as plt\n",
    "from sklearn.metrics import mean_absolute_error\n",
    "%matplotlib inline\n",
    "import seaborn as sb\n",
    "\n",
    "from sklearn.model_selection import GridSearchCV, TimeSeriesSplit\n",
    "from sklearn.ensemble import RandomForestRegressor\n",
    "from sklearn.model_selection import RandomizedSearchCV\n",
    "\n",
    "\n",
    "\n",
    "from plotly.offline import download_plotlyjs, init_notebook_mode, plot, iplot\n",
    "from plotly import __version__\n",
    "from plotly import graph_objs as go"
   ]
  },
  {
   "cell_type": "markdown",
   "metadata": {},
   "source": [
    "## Формируем выборку временного ряда"
   ]
  },
  {
   "cell_type": "code",
   "execution_count": null,
   "metadata": {
    "collapsed": true
   },
   "outputs": [],
   "source": [
    "df=pd.read_pickle('MG_Sales.pickle',compression='gzip')\n",
    "#df['Дата']=np.array(df['Дата'], dtype='datetime64[M]')"
   ]
  },
  {
   "cell_type": "markdown",
   "metadata": {},
   "source": [
    "## Формируем выборку"
   ]
  },
  {
   "cell_type": "code",
   "execution_count": null,
   "metadata": {
    "collapsed": true
   },
   "outputs": [],
   "source": [
    "begin_period=dt.datetime(2014,1,1)\n",
    "prediction_period=dt.datetime(2017,1,1)\n",
    "\n",
    "#last_d=begin_period-dt.timedelta(days=30)\n",
    "#(df['Магазин']=='Пермь (Колизей)  Ефименко О.Г.')&\n",
    "#&(df['Дата']<prediction_period)prediction_period\n",
    "\n",
    "time_series=pd.DataFrame(data=df[(df['Дата']>=begin_period)].groupby('Дата')['Количество'].sum())#(df['ТоварЦеноваяГруппа']=='3200-5000')&\n",
    "time_series.index.name='ds'\n",
    "time_series.columns=['y']\n",
    "\n",
    "#time_series=time_series.loc[:prediction_period-dt.timedelta(seconds=1)]\n",
    "y_test=time_series.loc[prediction_period:,'y']\n",
    "\n",
    "\n",
    "date_list = np.array([prediction_period + dt.timedelta(days=x) for x in range(0, 141)]).astype('datetime64[D]')\n",
    "time_series_forecast=pd.DataFrame(index=date_list)\n",
    "time_series_forecast.index.name='ds'"
   ]
  },
  {
   "cell_type": "markdown",
   "metadata": {},
   "source": [
    "## Фомируем характеристики модели"
   ]
  },
  {
   "cell_type": "code",
   "execution_count": null,
   "metadata": {
    "collapsed": true
   },
   "outputs": [],
   "source": [
    "#Фиксируем аномально низкие и высокие продажи\n",
    "ul=5#Персентиль высоких продаж 2\n",
    "ll=5#7#Персентиль низких продаж 10\n",
    "md=10#ширина медианы\n",
    "\n",
    "ulim=np.percentile(time_series['y'], 100.-ul)\n",
    "llim=np.percentile(time_series['y'], ll)\n",
    "med=np.percentile(time_series['y'], [50-md,50+md])\n",
    "\n",
    "\n",
    "time_series['Квантили']=0\n",
    "time_series.loc[time_series.y<med[0],'Квантили']=-1\n",
    "time_series.loc[time_series.y>med[1],'Квантили']=1\n",
    "time_series.loc[time_series.y<llim,'Квантили']=-2\n",
    "time_series.loc[time_series.y>ulim,'Квантили']=2\n",
    "\n",
    "#вычисляем год назад\n",
    "def yearsago(years, from_date):\n",
    "    try:\n",
    "        return from_date.replace(year=from_date.year - years)\n",
    "    except ValueError:        \n",
    "        return from_date.replace(month=2, day=28,\n",
    "                                 year=from_date.year-years)\n",
    "\n",
    "#временные характеристики\n",
    "def setNewValues(time_series):\n",
    "    time_series['День недели'] = time_series.index.weekday\n",
    "    time_series['Неделя'] = time_series.index.week\n",
    "    time_series['Год'] = time_series.index.year\n",
    "    time_series['День месяца'] = time_series.index.day\n",
    "    time_series['День года'] = time_series.index.dayofyear    \n",
    "    time_series['Праздник'] =df.groupby('Дата')['Праздник'].max()    \n",
    "    return time_series\n",
    "\n",
    "def weekseason(time_series):\n",
    "    time_series['Недельная сезонность']=time_series['День недели'].map(lambda cell: week_d.loc[cell,'Недельная сезонность'])\n",
    "    return time_series\n",
    "\n",
    "time_series=setNewValues(time_series)\n",
    "\n",
    "#порядок дней в сезонности недельной продажи за исключением аномалий\n",
    "week_d=pd.DataFrame(data=time_series[time_series['Квантили']==0].groupby('День недели')['y'].sum().sort_values())\n",
    "week_d.insert(0,'Недельная сезонность',list(range(week_d.shape[0])))\n",
    "for i in list(set(range(7))-set(week_d.index.values)):\n",
    "    week_d.loc[i,'Недельная сезонность']=-1\n",
    "    \n",
    "time_series=weekseason(time_series)\n",
    "\n",
    "mean_dict=dict(time_series.groupby(['Год','Неделя'])['y'].mean())\n",
    "time_series['Среднее по неделе']=time_series.apply(lambda row: mean_dict[row['Год'],row['Неделя']] , axis=1)\n",
    "mean_dict=dict(time_series.groupby(['День года'])['y'].mean())\n",
    "time_series['Среднее по дню года']=time_series.apply(lambda row: mean_dict[row['День года']] , axis=1)\n",
    "\n",
    "\n",
    "#Вычленяем целевую переменную\n",
    "y=time_series.y\n",
    "time_series.drop(['y'], axis=1, inplace=True)\n",
    "\n",
    "\n",
    "#подготавливаем выборку для прогноза\n",
    "time_series_forecast=weekseason(setNewValues(time_series_forecast))\n",
    "st_day=time_series_forecast.iloc[0].name\n",
    "first_day_past_year=yearsago(1, st_day)\n",
    "#вычисляем период которым мы должны взять из прошлого года\n",
    "last_day_past_year=dt.datetime(first_day_past_year.year,12,31)\n",
    "time_series[first_day_past_year:last_day_past_year]\n",
    "\n",
    "#Сдвигаем период на год вперед\n",
    "def setTimebasedValues(time_series_forecast,time_series,cols,first_day_past_year):\n",
    "    #вычленяем данные с колонками\n",
    "    time_series_copy=pd.DataFrame(data=time_series.loc[first_day_past_year:last_day_past_year,cols].copy())\n",
    "    try:\n",
    "        time_series_copy.loc[dt.datetime(first_day_past_year.year,2,28)]=time_series_copy.loc[dt.datetime(first_day_past_year.year,2,28):dt.datetime(first_day_past_year.year,2,29)].mean()\n",
    "    except:\n",
    "        pass\n",
    "    \n",
    "    for col in cols:\n",
    "        #Если високосный год\n",
    "        try:            \n",
    "            time_series_forecast[col]=pd.concat([\n",
    "                time_series_copy.loc[:dt.datetime(first_day_past_year.year,2,28),[col]].shift(366,'D'),\n",
    "                time_series_copy.loc[dt.datetime(first_day_past_year.year,3,1):,[col]].shift(365,'D')    \n",
    "                ], axis=0, join='outer')\n",
    "        except:\n",
    "            time_series_forecast[col]=time_series_copy[col].shift(365,'D')\n",
    "            #TODO Тут дополнительно отработать 29 февраля текущего года\n",
    "    return time_series_forecast\n",
    "        \n",
    "time_series_forecast=setTimebasedValues(time_series_forecast,time_series,['Квантили','Среднее по неделе','Среднее по дню года'],first_day_past_year)\n",
    "time_series_forecast=time_series_forecast[time_series.columns]\n",
    "\n",
    "del week_d"
   ]
  },
  {
   "cell_type": "markdown",
   "metadata": {},
   "source": [
    "## Обучение и валидация"
   ]
  },
  {
   "cell_type": "code",
   "execution_count": null,
   "metadata": {},
   "outputs": [],
   "source": [
    "next_d=dt.datetime(2017,1,1)\n",
    "last_d=next_d-dt.timedelta(seconds=1)    \n",
    "time_series_train=time_series.loc[:last_d]\n",
    "y_train=y.loc[:last_d]\n",
    "\n",
    "    \n",
    "#Случайный лес\n",
    "rf=RandomForestRegressor(n_jobs=-1)#criterion='neg_mean_absolute_error'\n",
    "#фолды кросс-валидации\n",
    "tss = TimeSeriesSplit(n_splits=3)\n",
    "#сетка параметров\n",
    "tuned_parameters={\n",
    "    'n_estimators': np.arange(30,45,1),\n",
    "    'min_impurity_split':np.logspace(-30, -19, num=20, endpoint=False),\n",
    "    'max_depth': np.arange(20,30,1)    \n",
    "}\n",
    "clf_grid = RandomizedSearchCV(rf, tuned_parameters, cv=tss, scoring='neg_mean_absolute_error', n_jobs=-1, verbose=1)\n",
    "clf_grid.fit(time_series_train, y_train)\n",
    "print (clf_grid.best_params_)\n",
    "print(clf_grid.best_score_)"
   ]
  },
  {
   "cell_type": "markdown",
   "metadata": {},
   "source": [
    "## Валидация на кросс-обучении"
   ]
  },
  {
   "cell_type": "code",
   "execution_count": null,
   "metadata": {},
   "outputs": [],
   "source": [
    "folds=4\n",
    "last=time_series.iloc[-1].name\n",
    "startDt=dt.datetime(last.year,last.month,last.day)\n",
    "lastDay=dt.datetime(last.year,last.month,1)-dt.timedelta(seconds=1)\n",
    "startmonth=dt.datetime(lastDay.year,lastDay.month,1)\n",
    "\n",
    "pediods=[]\n",
    "for i in range(folds):\n",
    "    pediods.append([startmonth,startDt])    \n",
    "    startDt=startmonth-dt.timedelta(seconds=1)\n",
    "    startmonth=dt.datetime(startDt.year,startDt.month,1)  \n",
    "\n",
    "mae=[]\n",
    "mape=[]\n",
    "for begin,end in reversed(pediods):\n",
    "    date_div_past=begin-dt.timedelta(days=1)\n",
    "        \n",
    "    time_series_train=time_series.loc[:date_div_past]\n",
    "    time_series_test=time_series_forecast.loc[begin:end]\n",
    "    \n",
    "    y_train=y.loc[:date_div_past]    \n",
    "    y_test=y.loc[begin:end]    \n",
    "    \n",
    "    clf_grid.best_estimator_.fit_transform(time_series_train,y_train)\n",
    "    prediction_test = pd.DataFrame(data=clf_grid.best_estimator_.predict(time_series_test),index=time_series_test.index)\n",
    "        \n",
    "    #prediction_test*=0.75\n",
    "    \n",
    "        \n",
    "    mae.append(np.mean(abs(y_test-prediction_test[0])))\n",
    "    mape.append(np.mean(100-abs(100*(y_test-prediction_test[0])/y_test)))\n",
    "    break\n",
    "    \n",
    "    \n",
    "print(\"RandomForrest MAE: {} 100%-MAPE: {}%\".format(round(np.mean(mae),2),round(np.mean(mape),2)))\n"
   ]
  },
  {
   "cell_type": "code",
   "execution_count": null,
   "metadata": {},
   "outputs": [],
   "source": [
    "init_notebook_mode(connected = True)\n",
    "trace1 = go.Scatter(\n",
    "            x = prediction_test.index,\n",
    "            y = prediction_test[0],\n",
    "            mode = 'lines',            \n",
    "            name = 'Прогноз',\n",
    "            line=dict(\n",
    "                shape='spline'\n",
    "            )\n",
    "        )       \n",
    "\n",
    "ty=y[dt.datetime(2016,1,1):dt.datetime(2016,1,31)].shift(366,'D')\n",
    "trace0 = go.Scatter(\n",
    "            x = ty.index,\n",
    "            y = ty,\n",
    "            mode = 'lines',            \n",
    "            name = '2016 год',\n",
    "            line=dict(\n",
    "                shape='spline',\n",
    "                dash = 'dash'\n",
    "            )\n",
    "        )       \n",
    "\n",
    "ty=y[dt.datetime(2015,1,1):dt.datetime(2015,1,31)].shift(366+365,'D')\n",
    "trace5 = go.Scatter(\n",
    "            x = ty.index,\n",
    "            y = ty,\n",
    "            mode = 'lines',            \n",
    "            name = '2015 год',\n",
    "            line=dict(\n",
    "                shape='spline',\n",
    "                dash = 'dash'\n",
    "            )\n",
    "        )   \n",
    "\n",
    "\n",
    "trace2 = go.Scatter(\n",
    "            x = y_test.index,\n",
    "            y = y_test,\n",
    "            mode = 'lines',            \n",
    "            name = 'Этот год',\n",
    "            line=dict(\n",
    "                shape='spline'\n",
    "            )\n",
    "        ) \n",
    " \n",
    "trace3 = go.Box(\n",
    "    y=prediction_test[0],\n",
    "    name='Mean & SD Прогноз',    \n",
    "    boxmean='sd',\n",
    "    #boxpoints = 'outliers'\n",
    "    boxpoints = 'all'\n",
    ")\n",
    "\n",
    "trace4 = go.Box(\n",
    "    y=y_test,\n",
    "    \n",
    "    name='Mean & SD Данные',    \n",
    "    boxmean='sd',\n",
    "    #boxpoints = 'outliers',\n",
    "    boxpoints = 'all'\n",
    ")\n",
    "\n",
    "\n",
    "fig = dict(data = [trace2,trace0,trace1,trace5])#,trace0\n",
    "iplot(fig, show_link=False)\n",
    "\n",
    "fig = dict(data = [trace4,trace3])#,trace0\n",
    "iplot(fig, show_link=False)"
   ]
  },
  {
   "cell_type": "code",
   "execution_count": null,
   "metadata": {},
   "outputs": [],
   "source": [
    "xgb.plot_importance(bst)\n"
   ]
  },
  {
   "cell_type": "code",
   "execution_count": null,
   "metadata": {},
   "outputs": [],
   "source": [
    "df.groupby('ТоварЦеноваяГруппа')['Количество'].sum().sort_values(ascending=False)"
   ]
  },
  {
   "cell_type": "code",
   "execution_count": null,
   "metadata": {},
   "outputs": [],
   "source": [
    "time_series[dt.datetime(2016,1,1):].head(16)"
   ]
  },
  {
   "cell_type": "code",
   "execution_count": null,
   "metadata": {},
   "outputs": [],
   "source": [
    "y[dt.datetime(2016,1,1):].head()"
   ]
  },
  {
   "cell_type": "code",
   "execution_count": null,
   "metadata": {},
   "outputs": [],
   "source": [
    "np.percentile(y, ll)"
   ]
  },
  {
   "cell_type": "code",
   "execution_count": null,
   "metadata": {},
   "outputs": [],
   "source": [
    "dt.datetime.now()"
   ]
  },
  {
   "cell_type": "code",
   "execution_count": null,
   "metadata": {},
   "outputs": [],
   "source": [
    "time_series.columns"
   ]
  },
  {
   "cell_type": "code",
   "execution_count": null,
   "metadata": {},
   "outputs": [],
   "source": [
    "clf_grid.best_estimator_.feature_importances_"
   ]
  },
  {
   "cell_type": "code",
   "execution_count": null,
   "metadata": {
    "collapsed": true
   },
   "outputs": [],
   "source": []
  }
 ],
 "metadata": {
  "kernelspec": {
   "display_name": "Python 3",
   "language": "python",
   "name": "python3"
  },
  "language_info": {
   "codemirror_mode": {
    "name": "ipython",
    "version": 3
   },
   "file_extension": ".py",
   "mimetype": "text/x-python",
   "name": "python",
   "nbconvert_exporter": "python",
   "pygments_lexer": "ipython3",
   "version": "3.6.0"
  }
 },
 "nbformat": 4,
 "nbformat_minor": 2
}
