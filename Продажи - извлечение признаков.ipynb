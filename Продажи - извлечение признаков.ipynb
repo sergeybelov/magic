{
 "cells": [
  {
   "cell_type": "code",
   "execution_count": 2,
   "metadata": {},
   "outputs": [
    {
     "name": "stderr",
     "output_type": "stream",
     "text": [
      "C:\\Users\\TEMP\\AppData\\Local\\Continuum\\Anaconda3\\lib\\site-packages\\statsmodels\\compat\\pandas.py:56: FutureWarning: The pandas.core.datetools module is deprecated and will be removed in a future version. Please use the pandas.tseries module instead.\n",
      "  from pandas.core import datetools\n"
     ]
    }
   ],
   "source": [
    "from tsfresh import extract_features\n",
    "from tsfresh.utilities.dataframe_functions import impute\n",
    "from tsfresh import select_features\n",
    "from tsfresh import extract_relevant_features\n",
    "from tsfresh.utilities.dataframe_functions import roll_time_series\n",
    "\n",
    "import pandas as pd\n",
    "import numpy as np\n",
    "import datetime as dt\n",
    "\n",
    "from sklearn.preprocessing import OneHotEncoder\n",
    "from sklearn.preprocessing import LabelEncoder"
   ]
  },
  {
   "cell_type": "markdown",
   "metadata": {},
   "source": [
    "## Формируем выборку временного ряда"
   ]
  },
  {
   "cell_type": "code",
   "execution_count": 3,
   "metadata": {},
   "outputs": [],
   "source": [
    "df=pd.read_pickle('MG_Sales.pickle',compression='gzip')\n",
    "\n",
    "#&(df['ТоварЦеноваяГруппа']=='0-2100')\n",
    "begin_period=dt.datetime(2015,1,1)\n",
    "prediction_period=dt.datetime(2017,1,1)\n",
    "\n",
    "df.drop(df[df['Дата']<begin_period].index, inplace=True)\n",
    "df.index.name='index'\n",
    "y=df['Количество']\n",
    "df.drop('Количество',inplace=True, axis=1)\n",
    "\n",
    "#переводим номинальные данные\n",
    "categorical_columns = [c for c in df.columns if df[c].dtype.name == 'object']\n",
    "onehot_encoder =  LabelEncoder()\n",
    "for col in categorical_columns:\n",
    "    df[col] = onehot_encoder.fit_transform(df[col]).astype('int64')\n",
    "\n",
    "#time_series=#pd.DataFrame(data=df[(df['Дата']>=begin_period)].groupby('Дата')['Количество'].sum())\n",
    "#time_series.index.name='ds'\n",
    "#time_series.columns=['y']\n",
    "#time_series['val']=0\n",
    "#time_series=time_series.reset_index().reset_index()\n",
    "#y=time_series.y\n",
    "#time_series.drop('y',inplace=True, axis=1)"
   ]
  },
  {
   "cell_type": "code",
   "execution_count": null,
   "metadata": {},
   "outputs": [
    {
     "name": "stderr",
     "output_type": "stream",
     "text": [
      "\r",
      "Feature Extraction:   0%|                                | 0/8 [00:00<?, ?it/s]"
     ]
    }
   ],
   "source": [
    "features_filtered_direct = extract_relevant_features(df.reset_index(), y,column_id='index',\n",
    "                                                      column_sort='Дата')\n",
    "features_filtered_direct"
   ]
  },
  {
   "cell_type": "markdown",
   "metadata": {},
   "source": [
    "## Формируем выборку"
   ]
  },
  {
   "cell_type": "code",
   "execution_count": null,
   "metadata": {
    "collapsed": true
   },
   "outputs": [],
   "source": [
    "#Фиксируем аномально низкие и высокие продажи\n",
    "ul=5#Персентиль высоких продаж 2\n",
    "ll=5#7#Персентиль низких продаж 10\n",
    "md=3#ширина медианы\n",
    "\n",
    "ulim=np.percentile(time_series['y'], 100.-ul)\n",
    "llim=np.percentile(time_series['y'], ll)\n",
    "med=np.percentile(time_series['y'], [50-md,50+md])\n",
    "\n",
    "\n",
    "time_series['Квантили']=0\n",
    "time_series.loc[time_series.y<med[0],'Квантили']=-1\n",
    "time_series.loc[time_series.y>med[1],'Квантили']=1\n",
    "time_series.loc[time_series.y<llim,'Квантили']=-2\n",
    "time_series.loc[time_series.y>ulim,'Квантили']=2\n",
    "\n",
    "#вычисляем год назад\n",
    "def yearsago(years, from_date):\n",
    "    try:\n",
    "        return from_date.replace(year=from_date.year - years)\n",
    "    except ValueError:        \n",
    "        return from_date.replace(month=2, day=28,\n",
    "                                 year=from_date.year-years)\n",
    "\n",
    "#временные характеристики\n",
    "def setNewValues(time_series):\n",
    "    time_series['День недели'] = time_series.index.weekday\n",
    "    time_series['Месяц'] = time_series.index.month\n",
    "    time_series['Год'] = time_series.index.year\n",
    "    time_series['День месяца'] = time_series.index.day\n",
    "    time_series['Выходные'] = time_series.index.weekday.isin([5,6])*1\n",
    "    time_series['Праздник'] =df.groupby('Дата')['Праздник'].max()\n",
    "    return time_series\n",
    "\n",
    "def weekseason(time_series):\n",
    "    time_series['Недельная сезонность']=time_series['День недели'].map(lambda cell: week_d.loc[cell,'Недельная сезонность'])\n",
    "    return time_series\n",
    "\n",
    "time_series=setNewValues(time_series)\n",
    "\n",
    "#порядок дней в сезонности недельной продажи за исключением аномалий\n",
    "week_d=pd.DataFrame(data=time_series[time_series['Квантили']==0].groupby('День недели')['y'].sum().sort_values())\n",
    "week_d.insert(0,'Недельная сезонность',list(range(week_d.shape[0])))\n",
    "for i in list(set(range(7))-set(week_d.index.values)):\n",
    "    week_d.loc[i,'Недельная сезонность']=-1\n",
    "    \n",
    "time_series=weekseason(time_series)\n",
    "\n",
    "#Вычленяем целевую переменную\n",
    "y=time_series.y\n",
    "time_series=time_series.drop(['y'], axis=1).reset_index()\n",
    "time_series=time_series.reset_index()"
   ]
  },
  {
   "cell_type": "code",
   "execution_count": null,
   "metadata": {
    "collapsed": true
   },
   "outputs": [],
   "source": [
    "features_filtered_direct = extract_relevant_features(time_series, y.reset_index().reset_index().drop('ds',axis=1).values,\n",
    "                                                     column_id='index', column_sort='ds',parallelization='per_sample')"
   ]
  },
  {
   "cell_type": "code",
   "execution_count": null,
   "metadata": {
    "collapsed": true
   },
   "outputs": [],
   "source": [
    "tdf=roll_time_series(time_series,column_id='index', column_sort='ds',rolling_direction=365,column_kind =None)"
   ]
  },
  {
   "cell_type": "code",
   "execution_count": null,
   "metadata": {},
   "outputs": [],
   "source": [
    "tdf.tail()"
   ]
  },
  {
   "cell_type": "code",
   "execution_count": null,
   "metadata": {},
   "outputs": [],
   "source": [
    "df.index.name='index'"
   ]
  },
  {
   "cell_type": "code",
   "execution_count": null,
   "metadata": {},
   "outputs": [],
   "source": [
    "df.head(5)"
   ]
  },
  {
   "cell_type": "code",
   "execution_count": null,
   "metadata": {},
   "outputs": [],
   "source": [
    "OneHotEncoder(df['Коллекция'])"
   ]
  },
  {
   "cell_type": "code",
   "execution_count": null,
   "metadata": {},
   "outputs": [],
   "source": [
    "onehot_encoder.fit_transform(df['Коллекция'])"
   ]
  },
  {
   "cell_type": "code",
   "execution_count": null,
   "metadata": {
    "collapsed": true
   },
   "outputs": [],
   "source": []
  }
 ],
 "metadata": {
  "kernelspec": {
   "display_name": "Python 3",
   "language": "python",
   "name": "python3"
  },
  "language_info": {
   "codemirror_mode": {
    "name": "ipython",
    "version": 3
   },
   "file_extension": ".py",
   "mimetype": "text/x-python",
   "name": "python",
   "nbconvert_exporter": "python",
   "pygments_lexer": "ipython3",
   "version": "3.6.0"
  }
 },
 "nbformat": 4,
 "nbformat_minor": 2
}
