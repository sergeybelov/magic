{
 "cells": [
  {
   "cell_type": "code",
   "execution_count": null,
   "metadata": {
    "collapsed": true
   },
   "outputs": [],
   "source": [
    "import pandas as pd\n",
    "import json\n",
    "from pandas.io.json import json_normalize\n",
    "import calendar\n",
    "import datetime as dt\n",
    "\n",
    "import numpy as np\n",
    "import fnmatch\n",
    "import os"
   ]
  },
  {
   "cell_type": "markdown",
   "metadata": {},
   "source": [
    "# Читаем и преобразовываем JSON"
   ]
  },
  {
   "cell_type": "code",
   "execution_count": null,
   "metadata": {},
   "outputs": [],
   "source": [
    "print('Обработка файла JSON')\n",
    "\n",
    "with open('sales.json', encoding='utf8') as data_file:\n",
    "    json_data = json.load(data_file)\n",
    "_columns=[val['Name']['#value'] for val in json_data['#value']['column']]#Вычленяем колонки\n",
    "data=pd.DataFrame(data=json_data['#value']['row'], columns=_columns).applymap(lambda cell: cell['#value'])#читаем JSON и вычленяем значения\n",
    "\n",
    "del json_data\n",
    "print('Готово')"
   ]
  },
  {
   "cell_type": "markdown",
   "metadata": {},
   "source": [
    "# Преобразование характеристик"
   ]
  },
  {
   "cell_type": "code",
   "execution_count": null,
   "metadata": {},
   "outputs": [],
   "source": [
    "data['Дата']=pd.to_datetime(data['Дата'],format='%Y-%m-%d').dt.date.astype('datetime64[ns]')#преобразуем дату\n",
    "\n",
    "ext_col=set(['ПокупательДатаРождения','ПокупательПервыйКонтакт','ПокупательДатаПереходаНаБонусную'])\n",
    "for col in ext_col:\n",
    "    data[col]=pd.to_datetime(data[col],format='%Y-%m-%d',errors='coerce')#преобразуем дату\n",
    "\n",
    "data.sort_values('Дата',inplace=True)"
   ]
  },
  {
   "cell_type": "markdown",
   "metadata": {},
   "source": [
    "## Финальная обработка категориальных данных"
   ]
  },
  {
   "cell_type": "code",
   "execution_count": null,
   "metadata": {},
   "outputs": [],
   "source": [
    "#получаем колонки категориальных характеристик\n",
    "\n",
    "categorical_columns = list(set([c for c in data.columns if data[c].dtype.name == 'object']) - set(['ПокупательСтатусАктивации','ПокупательОтказОтСМС','ПокупательПроцентСкидки']))\n",
    "\n",
    "#заполняем пустые значения в категориальных данных\n",
    "data[categorical_columns]=data[categorical_columns].applymap(lambda cell: cell.strip() if bool(cell.strip()) else '<Неопределено>')"
   ]
  },
  {
   "cell_type": "markdown",
   "metadata": {},
   "source": [
    "# Сохраняем в формате Pickle (Python)"
   ]
  },
  {
   "cell_type": "code",
   "execution_count": null,
   "metadata": {},
   "outputs": [],
   "source": [
    "#проверка на Nan, null\n",
    "count=0\n",
    "null_series=data.isnull().any()\n",
    "for idx in null_series.index:\n",
    "    if (null_series[idx])&(idx not in(ext_col)): \n",
    "        count+=1\n",
    "        print (str(count)+'. '+idx) \n",
    "        \n",
    "\n",
    "if count>0:\n",
    "    print('Существуют данные null')\n",
    "    raise SystemExit(2)\n",
    "\n",
    "data.reset_index().drop(['index'], axis=1).to_pickle('MG_Sales_customer.pickle',compression='gzip')\n",
    "del data"
   ]
  },
  {
   "cell_type": "code",
   "execution_count": null,
   "metadata": {},
   "outputs": [],
   "source": [
    "print('Завершено',str(dt.datetime.now()))"
   ]
  }
 ],
 "metadata": {
  "kernelspec": {
   "display_name": "Python 3",
   "language": "python",
   "name": "python3"
  },
  "language_info": {
   "codemirror_mode": {
    "name": "ipython",
    "version": 3
   },
   "file_extension": ".py",
   "mimetype": "text/x-python",
   "name": "python",
   "nbconvert_exporter": "python",
   "pygments_lexer": "ipython3",
   "version": "3.6.0"
  }
 },
 "nbformat": 4,
 "nbformat_minor": 2
}
